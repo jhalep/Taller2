{
 "cells": [
  {
   "cell_type": "code",
   "execution_count": 223,
   "metadata": {},
   "outputs": [],
   "source": [
    "library(readxl)\n",
    "SECTOR_A <- read_excel(\"SectorA.xlsx\")\n",
    "SECTOR_B <- read_excel(\"SectorB.xlsx\")"
   ]
  },
  {
   "cell_type": "markdown",
   "metadata": {},
   "source": [
    "# Primera Parte"
   ]
  },
  {
   "cell_type": "markdown",
   "metadata": {},
   "source": [
    "**1.\tConsidere la variable discreta de la información del sector A y realice un sucinto análisis exploratorio (sugerencia: solo mire ocurrencia y gráfico con medidas de tendencia central, variabilidad y localización).**"
   ]
  },
  {
   "cell_type": "code",
   "execution_count": 224,
   "metadata": {},
   "outputs": [
    {
     "data": {
      "text/plain": [
       "    Inmueble          tipo             estrato          numero_habitantes\n",
       " Min.   :  1.00   Length:100         Length:100         Min.   :0.00     \n",
       " 1st Qu.: 25.75   Class :character   Class :character   1st Qu.:2.00     \n",
       " Median : 50.50   Mode  :character   Mode  :character   Median :3.00     \n",
       " Mean   : 50.50                                         Mean   :3.13     \n",
       " 3rd Qu.: 75.25                                         3rd Qu.:4.00     \n",
       " Max.   :100.00                                         Max.   :7.00     \n",
       " metros_cuadrados\n",
       " Min.   :59.40   \n",
       " 1st Qu.:67.80   \n",
       " Median :70.75   \n",
       " Mean   :71.74   \n",
       " 3rd Qu.:74.68   \n",
       " Max.   :85.85   "
      ]
     },
     "metadata": {},
     "output_type": "display_data"
    }
   ],
   "source": [
    "summary(SECTOR_A)"
   ]
  },
  {
   "cell_type": "code",
   "execution_count": 225,
   "metadata": {},
   "outputs": [
    {
     "data": {
      "text/html": [
       "<table>\n",
       "<thead><tr><th scope=col>tipo</th><th scope=col>Freq</th></tr></thead>\n",
       "<tbody>\n",
       "\t<tr><td>No Residencial</td><td>20            </td></tr>\n",
       "\t<tr><td>Residencial   </td><td>80            </td></tr>\n",
       "</tbody>\n",
       "</table>\n"
      ],
      "text/latex": [
       "\\begin{tabular}{r|ll}\n",
       " tipo & Freq\\\\\n",
       "\\hline\n",
       "\t No Residencial & 20            \\\\\n",
       "\t Residencial    & 80            \\\\\n",
       "\\end{tabular}\n"
      ],
      "text/markdown": [
       "\n",
       "tipo | Freq | \n",
       "|---|---|\n",
       "| No Residencial | 20             | \n",
       "| Residencial    | 80             | \n",
       "\n",
       "\n"
      ],
      "text/plain": [
       "  tipo           Freq\n",
       "1 No Residencial 20  \n",
       "2 Residencial    80  "
      ]
     },
     "metadata": {},
     "output_type": "display_data"
    }
   ],
   "source": [
    "tipo = SECTOR_A$tipo\n",
    "tabla1  = data.frame(table(tipo))\n",
    "tabla1"
   ]
  },
  {
   "cell_type": "code",
   "execution_count": 226,
   "metadata": {},
   "outputs": [
    {
     "data": {
      "text/html": [
       "<table>\n",
       "<thead><tr><th scope=col>estrato</th><th scope=col>Freq</th></tr></thead>\n",
       "<tbody>\n",
       "\t<tr><td>Alto </td><td>32   </td></tr>\n",
       "\t<tr><td>Bajo </td><td>57   </td></tr>\n",
       "\t<tr><td>Medio</td><td>11   </td></tr>\n",
       "</tbody>\n",
       "</table>\n"
      ],
      "text/latex": [
       "\\begin{tabular}{r|ll}\n",
       " estrato & Freq\\\\\n",
       "\\hline\n",
       "\t Alto  & 32   \\\\\n",
       "\t Bajo  & 57   \\\\\n",
       "\t Medio & 11   \\\\\n",
       "\\end{tabular}\n"
      ],
      "text/markdown": [
       "\n",
       "estrato | Freq | \n",
       "|---|---|---|\n",
       "| Alto  | 32    | \n",
       "| Bajo  | 57    | \n",
       "| Medio | 11    | \n",
       "\n",
       "\n"
      ],
      "text/plain": [
       "  estrato Freq\n",
       "1 Alto    32  \n",
       "2 Bajo    57  \n",
       "3 Medio   11  "
      ]
     },
     "metadata": {},
     "output_type": "display_data"
    }
   ],
   "source": [
    "estrato = SECTOR_A$estrato\n",
    "tabla2  = data.frame(table(estrato))\n",
    "tabla2"
   ]
  },
  {
   "cell_type": "code",
   "execution_count": 227,
   "metadata": {},
   "outputs": [
    {
     "data": {
      "text/html": [
       "<table>\n",
       "<thead><tr><th scope=col>habitantes</th><th scope=col>Freq</th></tr></thead>\n",
       "<tbody>\n",
       "\t<tr><td>0 </td><td> 2</td></tr>\n",
       "\t<tr><td>1 </td><td>11</td></tr>\n",
       "\t<tr><td>2 </td><td>19</td></tr>\n",
       "\t<tr><td>3 </td><td>33</td></tr>\n",
       "\t<tr><td>4 </td><td>19</td></tr>\n",
       "\t<tr><td>5 </td><td> 9</td></tr>\n",
       "\t<tr><td>6 </td><td> 5</td></tr>\n",
       "\t<tr><td>7 </td><td> 2</td></tr>\n",
       "</tbody>\n",
       "</table>\n"
      ],
      "text/latex": [
       "\\begin{tabular}{r|ll}\n",
       " habitantes & Freq\\\\\n",
       "\\hline\n",
       "\t 0  &  2\\\\\n",
       "\t 1  & 11\\\\\n",
       "\t 2  & 19\\\\\n",
       "\t 3  & 33\\\\\n",
       "\t 4  & 19\\\\\n",
       "\t 5  &  9\\\\\n",
       "\t 6  &  5\\\\\n",
       "\t 7  &  2\\\\\n",
       "\\end{tabular}\n"
      ],
      "text/markdown": [
       "\n",
       "habitantes | Freq | \n",
       "|---|---|---|---|---|---|---|---|\n",
       "| 0  |  2 | \n",
       "| 1  | 11 | \n",
       "| 2  | 19 | \n",
       "| 3  | 33 | \n",
       "| 4  | 19 | \n",
       "| 5  |  9 | \n",
       "| 6  |  5 | \n",
       "| 7  |  2 | \n",
       "\n",
       "\n"
      ],
      "text/plain": [
       "  habitantes Freq\n",
       "1 0           2  \n",
       "2 1          11  \n",
       "3 2          19  \n",
       "4 3          33  \n",
       "5 4          19  \n",
       "6 5           9  \n",
       "7 6           5  \n",
       "8 7           2  "
      ]
     },
     "metadata": {},
     "output_type": "display_data"
    }
   ],
   "source": [
    "habitantes = SECTOR_A$numero_habitantes\n",
    "tabla3  = data.frame(table(habitantes))\n",
    "tabla3"
   ]
  },
  {
   "cell_type": "code",
   "execution_count": 228,
   "metadata": {},
   "outputs": [
    {
     "ename": "ERROR",
     "evalue": "Error in png(tf, width, height, \"in\", pointsize, bg, res, antialias = antialias): unable to start png() device\n",
     "output_type": "error",
     "traceback": [
      "Error in png(tf, width, height, \"in\", pointsize, bg, res, antialias = antialias): unable to start png() device\nTraceback:\n"
     ]
    },
    {
     "data": {
      "text/plain": [
       "Plot with title \"Histogram of habitantes\""
      ]
     },
     "metadata": {},
     "output_type": "display_data"
    }
   ],
   "source": [
    "hist(habitantes)"
   ]
  },
  {
   "cell_type": "code",
   "execution_count": 229,
   "metadata": {},
   "outputs": [
    {
     "ename": "ERROR",
     "evalue": "Error in png(tf, width, height, \"in\", pointsize, bg, res, antialias = antialias): unable to start png() device\n",
     "output_type": "error",
     "traceback": [
      "Error in png(tf, width, height, \"in\", pointsize, bg, res, antialias = antialias): unable to start png() device\nTraceback:\n"
     ]
    },
    {
     "data": {
      "text/plain": [
       "Plot with title \"Histogram of metros\""
      ]
     },
     "metadata": {},
     "output_type": "display_data"
    }
   ],
   "source": [
    "metros = SECTOR_A$metros_cuadrados\n",
    "hist(metros)"
   ]
  },
  {
   "cell_type": "markdown",
   "metadata": {},
   "source": [
    "# Segunda Parte"
   ]
  },
  {
   "cell_type": "markdown",
   "metadata": {},
   "source": [
    "Resolver los siguientes problemas usando inferencia clásica. Tener presente que son dos muestras de diferente tamaño. Resultados con justificación. "
   ]
  },
  {
   "cell_type": "markdown",
   "metadata": {},
   "source": [
    "**1. Con respecto a los inmuebles del sector B, estimar el porcentaje y error estándar de inmuebles residenciales que hace parte del estrato bajo.**"
   ]
  },
  {
   "cell_type": "code",
   "execution_count": 230,
   "metadata": {},
   "outputs": [
    {
     "data": {
      "text/html": [
       "71"
      ],
      "text/latex": [
       "71"
      ],
      "text/markdown": [
       "71"
      ],
      "text/plain": [
       "[1] 71"
      ]
     },
     "metadata": {},
     "output_type": "display_data"
    }
   ],
   "source": [
    "n_B=length(SECTOR_B$estrato)\n",
    "n_B"
   ]
  },
  {
   "cell_type": "code",
   "execution_count": 231,
   "metadata": {},
   "outputs": [
    {
     "data": {
      "text/html": [
       "0.591549295774648"
      ],
      "text/latex": [
       "0.591549295774648"
      ],
      "text/markdown": [
       "0.591549295774648"
      ],
      "text/plain": [
       "[1] 0.5915493"
      ]
     },
     "metadata": {},
     "output_type": "display_data"
    }
   ],
   "source": [
    "r1=sum(SECTOR_B$estrato==\"Bajo\")/n_B\n",
    "r1"
   ]
  },
  {
   "cell_type": "code",
   "execution_count": 126,
   "metadata": {},
   "outputs": [
    {
     "data": {
      "text/html": [
       "0.0583359293585788"
      ],
      "text/latex": [
       "0.0583359293585788"
      ],
      "text/markdown": [
       "0.0583359293585788"
      ],
      "text/plain": [
       "[1] 0.05833593"
      ]
     },
     "metadata": {},
     "output_type": "display_data"
    }
   ],
   "source": [
    "st=sqrt((r1*(1-r1))/n_B)\n",
    "st"
   ]
  },
  {
   "cell_type": "markdown",
   "metadata": {},
   "source": [
    "$$st(r)=\\frac{s}{\\sqrt{n}} = \\sqrt{\\frac{r(1-r)}{n}} = \\sqrt{\\frac{0.59(1-0.59)}{71}} = 0.058$$"
   ]
  },
  {
   "cell_type": "markdown",
   "metadata": {},
   "source": [
    "**2. Proponga un intervalo de confianza del 95%, para establecer la proporción de inmuebles de tipo residencial y que sea de estrato medio para el sector A.**"
   ]
  },
  {
   "cell_type": "code",
   "execution_count": 232,
   "metadata": {},
   "outputs": [
    {
     "data": {
      "text/html": [
       "100"
      ],
      "text/latex": [
       "100"
      ],
      "text/markdown": [
       "100"
      ],
      "text/plain": [
       "[1] 100"
      ]
     },
     "metadata": {},
     "output_type": "display_data"
    }
   ],
   "source": [
    "n_A=length(SECTOR_A$estrato)\n",
    "n_A"
   ]
  },
  {
   "cell_type": "code",
   "execution_count": 233,
   "metadata": {},
   "outputs": [
    {
     "data": {
      "text/html": [
       "0.11"
      ],
      "text/latex": [
       "0.11"
      ],
      "text/markdown": [
       "0.11"
      ],
      "text/plain": [
       "[1] 0.11"
      ]
     },
     "metadata": {},
     "output_type": "display_data"
    }
   ],
   "source": [
    "r2=sum(SECTOR_A$tipo==\"Residencial\" & SECTOR_A$estrato==\"Medio\")/n_A\n",
    "r2"
   ]
  },
  {
   "cell_type": "markdown",
   "metadata": {},
   "source": [
    "Para $100(1-\\alpha)\\%=95\\%$. Despejando tenemos, $\\alpha = 0.05$"
   ]
  },
  {
   "cell_type": "markdown",
   "metadata": {},
   "source": [
    "El intervalo de confianza de para una proporción está dado por: $[\\hat{r}-\\epsilon,\\hat{r}+\\epsilon]$"
   ]
  },
  {
   "cell_type": "markdown",
   "metadata": {},
   "source": [
    "donde $\\epsilon = z_{1-a/2}\\sqrt{\\frac{\\hat{r}(1-\\hat{r})}{n}} = 1.96\\sqrt{\\frac{0.11(1-0.11)}{100}} = 0.061$"
   ]
  },
  {
   "cell_type": "code",
   "execution_count": 234,
   "metadata": {},
   "outputs": [
    {
     "data": {
      "text/html": [
       "0.0613252654740242"
      ],
      "text/latex": [
       "0.0613252654740242"
      ],
      "text/markdown": [
       "0.0613252654740242"
      ],
      "text/plain": [
       "[1] 0.06132527"
      ]
     },
     "metadata": {},
     "output_type": "display_data"
    }
   ],
   "source": [
    "error=qnorm(0.975)*sqrt((r2*(1-r2))/n_A)\n",
    "error"
   ]
  },
  {
   "cell_type": "code",
   "execution_count": 235,
   "metadata": {},
   "outputs": [
    {
     "data": {
      "text/html": [
       "0.0486747345259758"
      ],
      "text/latex": [
       "0.0486747345259758"
      ],
      "text/markdown": [
       "0.0486747345259758"
      ],
      "text/plain": [
       "[1] 0.04867473"
      ]
     },
     "metadata": {},
     "output_type": "display_data"
    }
   ],
   "source": [
    "l_inf=r2-error\n",
    "l_inf"
   ]
  },
  {
   "cell_type": "code",
   "execution_count": 236,
   "metadata": {},
   "outputs": [
    {
     "data": {
      "text/html": [
       "0.171325265474024"
      ],
      "text/latex": [
       "0.171325265474024"
      ],
      "text/markdown": [
       "0.171325265474024"
      ],
      "text/plain": [
       "[1] 0.1713253"
      ]
     },
     "metadata": {},
     "output_type": "display_data"
    }
   ],
   "source": [
    "l_sup=r2+error\n",
    "l_sup"
   ]
  },
  {
   "cell_type": "markdown",
   "metadata": {},
   "source": [
    "$[\\hat{r}-\\epsilon,\\hat{r}+\\epsilon] = [0.11 - 0.0613,0.11 + 0.0613]= [0.0486,0.1713]$"
   ]
  },
  {
   "cell_type": "markdown",
   "metadata": {},
   "source": [
    "**3. ¿Es posible inferir que el más del 50% de los inmuebles del sector A tienen más de 75 metros cuadrados?**"
   ]
  },
  {
   "cell_type": "code",
   "execution_count": 140,
   "metadata": {},
   "outputs": [
    {
     "data": {
      "text/html": [
       "0.24"
      ],
      "text/latex": [
       "0.24"
      ],
      "text/markdown": [
       "0.24"
      ],
      "text/plain": [
       "[1] 0.24"
      ]
     },
     "metadata": {},
     "output_type": "display_data"
    }
   ],
   "source": [
    "r3=sum(SECTOR_A$metros_cuadrados>75)/n_A\n",
    "r3"
   ]
  },
  {
   "cell_type": "markdown",
   "metadata": {},
   "source": [
    "Para realizar la inferencia se realiza una prueba de hipótesis sobre la proporción de inmuebles que tienen más de 75 metros cuadrados, con una confiabilidad del 95%. \n",
    "\n",
    "Las hipótesis a someter a prueba son: $$H_0:P_0>=50\\%$$ $$H_1:P_0<50\\%$$\n",
    "El Estadístico de prueba de una proporción para muestras mayores o igual a 30 es \n",
    "$$Z_0 = \\frac{\\hat{P}-P_0}{\\sqrt{\\frac{P_0(1-P_0)}{n}}}$$\n",
    "Donde $\\hat{P}$ es la proporción de la muestra, $\\hat{P}=0.24$\n",
    "Se rechaza la prueba de hipótesis nula $H_0$ si $\\mid Z_0 \\mid >= Z_{1-\\alpha/2}$"
   ]
  },
  {
   "cell_type": "code",
   "execution_count": 237,
   "metadata": {},
   "outputs": [
    {
     "data": {
      "text/html": [
       "-5.2"
      ],
      "text/latex": [
       "-5.2"
      ],
      "text/markdown": [
       "-5.2"
      ],
      "text/plain": [
       "[1] -5.2"
      ]
     },
     "metadata": {},
     "output_type": "display_data"
    }
   ],
   "source": [
    "Z0 = (0.24-0.5)/sqrt(0.5*(1-0.5)/100)\n",
    "Z0"
   ]
  },
  {
   "cell_type": "markdown",
   "metadata": {},
   "source": [
    "$$Z_0 = \\frac{0.24-0.5}{\\sqrt{\\frac{0.5(1-0.5)}{100}}} = -5.2$$"
   ]
  },
  {
   "cell_type": "markdown",
   "metadata": {},
   "source": [
    "Tenemos que para una confiabilidad del 95%, el nivel de significancia $\\alpha$ es 0.05. Por lo que\n",
    "$$Z_{1-\\alpha/2}=1.96$$\n",
    "\n",
    "y como  $\\mid -5.2 \\mid >= 1.96$, se rechaza la hipótesis nula. Por lo tanto, menos del 50% de los inmuebles del sector A tienen más de 75 metros cuadrados"
   ]
  },
  {
   "cell_type": "markdown",
   "metadata": {},
   "source": [
    "**4. Usando una prueba de hipótesis con el 99% de confianza e indicar si hay diferencias significativas entre los metros cuadrados de los inmuebles de sector A y del sector B. (suponer normalidad) (Sugerencia: No olvide estudiar la varianza de los metros cuadrados de cada sector para decidir que prueba usar )**"
   ]
  },
  {
   "cell_type": "code",
   "execution_count": 238,
   "metadata": {},
   "outputs": [],
   "source": [
    "s_A=var(SECTOR_A$metros_cuadrados)\n",
    "s_B=var(SECTOR_B$metros_cuadrados)"
   ]
  },
  {
   "cell_type": "markdown",
   "metadata": {},
   "source": [
    "Para conocer qué prueba de hipótesis se debe usar, se realiza primero una prueba de hipótesis respecto a la igualdad de las dos varianzas. $$H_0: \\sigma_A^2 = \\sigma_B^2$$ $$H_1: \\sigma_A^2 \\neq \\sigma_B^2$$\n",
    "\n",
    "El estadístico de prueba es $$F=\\frac{s_A^2}{s_B^2} = \\frac{38.74^2}{56.16^2}=0.475$$\n",
    "\n",
    "La hipótesis nula se rechaza cuando $$F>F_{1-\\alpha/2,glA,glB}$$\n",
    "\n",
    "Tenemos que $\\alpha=0.05, glA=(n_A-1)=99,glB=(n_B-1)=70$"
   ]
  },
  {
   "cell_type": "code",
   "execution_count": 194,
   "metadata": {},
   "outputs": [
    {
     "data": {
      "text/html": [
       "1.53371802366158"
      ],
      "text/latex": [
       "1.53371802366158"
      ],
      "text/markdown": [
       "1.53371802366158"
      ],
      "text/plain": [
       "[1] 1.533718"
      ]
     },
     "metadata": {},
     "output_type": "display_data"
    }
   ],
   "source": [
    "qf(0.975,df1=70,df2=99)"
   ]
  },
  {
   "cell_type": "markdown",
   "metadata": {},
   "source": [
    "Entonces, el valor crítico es: \n",
    "$$F_{0.975,99,70} = 1.533 $$\n",
    "\n",
    "Debido a que el estadístico de prueba no está en la región de rechazo, hay evidencia estadística para aceptar que las varianzas son iguales.\n",
    "\n",
    "Con este resultado, se propone la siguiente prueba de hipótesis respecto a la diferencia de medias de las dos muestras con varianzas iguales: \n",
    "$$H_0: (\\mu_A-\\mu_B)=D_0$$\n",
    "$$H_1: (\\mu_A-\\mu_B)\\neq D_0$$\n",
    "\n",
    "$$con\\ D_0=0 $$\n",
    "\n",
    "El Estadístico de prueba es:\n",
    "$$t= \\frac{(\\overline{x_A}-\\overline{x_B})-D_0}{s_p \\sqrt{\\frac{1}{n_A}+\\frac{1}{n_B}}}$$\n",
    "\n",
    "donde $s_p$ es el promedio ponderado de las varianzas muestrales: $$s_p= \\frac{(n_A-1)s_A^2+(n_B-1)s_B^2}{n_A+n_B-2}$$\n",
    "\n",
    "La prueba de hipótesis se rechaza cuando $t>t_{\\alpha}$. El valor crítico de $t_{\\alpha}$ está basado en $n_A+n_B-2=100+71-2=169$ grados de libertad\n",
    "\n",
    "Para $100(1-\\alpha)\\%=99\\%$. el nivel de significancia es, $\\alpha = 0.01$. Entonces, el valor crítico es:\n",
    "\n",
    "$$t_{1-\\alpha,169}=2.348$$"
   ]
  },
  {
   "cell_type": "code",
   "execution_count": 239,
   "metadata": {},
   "outputs": [
    {
     "data": {
      "text/html": [
       "2.3486150651675"
      ],
      "text/latex": [
       "2.3486150651675"
      ],
      "text/markdown": [
       "2.3486150651675"
      ],
      "text/plain": [
       "[1] 2.348615"
      ]
     },
     "metadata": {},
     "output_type": "display_data"
    }
   ],
   "source": [
    "t_a = qt(0.99,169)\n",
    "t_a"
   ]
  },
  {
   "cell_type": "markdown",
   "metadata": {},
   "source": [
    "Con las varianzas muestrales $s_A=38.74$ y $s_B=56.16$, Calculamos $s_p:$\n",
    "\n",
    "$$s_p= \\sqrt{\\frac{(100-1)38.74^2+(71-1)56.16^2}{100+71-2}}=46.75$$"
   ]
  },
  {
   "cell_type": "code",
   "execution_count": 241,
   "metadata": {},
   "outputs": [
    {
     "data": {
      "text/html": [
       "46.7521118170225"
      ],
      "text/latex": [
       "46.7521118170225"
      ],
      "text/markdown": [
       "46.7521118170225"
      ],
      "text/plain": [
       "[1] 46.75211"
      ]
     },
     "metadata": {},
     "output_type": "display_data"
    }
   ],
   "source": [
    "s_p=sqrt((99*s_A^2+70*s_B^2)/(100+71-2))\n",
    "s_p"
   ]
  },
  {
   "cell_type": "markdown",
   "metadata": {},
   "source": [
    "Con los promedios muestrales $\\overline{x_A}=71.74$ y $\\overline{x_B}=71.19$, podemos calcular $t:$\n",
    "\n",
    "$$t= \\frac{(71.74-71.19)-0}{46.75 \\sqrt{\\frac{1}{100}+\\frac{1}{71}}}= 0.076$$"
   ]
  },
  {
   "cell_type": "code",
   "execution_count": 242,
   "metadata": {},
   "outputs": [
    {
     "data": {
      "text/html": [
       "0.0762237676794303"
      ],
      "text/latex": [
       "0.0762237676794303"
      ],
      "text/markdown": [
       "0.0762237676794303"
      ],
      "text/plain": [
       "[1] 0.07622377"
      ]
     },
     "metadata": {},
     "output_type": "display_data"
    }
   ],
   "source": [
    "x_A=mean(SECTOR_A$metros_cuadrados)\n",
    "x_B=mean(SECTOR_B$metros_cuadrados)\n",
    "t=(x_A-x_B)/(s_p*sqrt(1/100+1/71))\n",
    "t"
   ]
  },
  {
   "cell_type": "markdown",
   "metadata": {},
   "source": [
    "Al comparar el valor crítico $t_{1-\\alpha,169}=2.348$ con el estadístico de prueba $t=0.076$, no se puede rechazar la hipótesis nula. Por lo tanto, hay evidencia estadística para afirmar con un 99% de confianza que no hay diferencias significativas entre los metros cuadrados de los inmuebles del sector A y sector B."
   ]
  },
  {
   "cell_type": "markdown",
   "metadata": {},
   "source": [
    "**5. Pensando en un modelo de Poisson, ¿cuántos habitantes por inmueble se estima para el sector B? (No olvide calcular el error estandar). Estime la probabilidad de que las personas tengan entre 3 y 5 habitantes por inmuebles en el sector B. (Aquí noo es necesario calcular el  error estandar).**"
   ]
  },
  {
   "cell_type": "code",
   "execution_count": 172,
   "metadata": {},
   "outputs": [
    {
     "data": {
      "text/html": [
       "38.7404254141414"
      ],
      "text/latex": [
       "38.7404254141414"
      ],
      "text/markdown": [
       "38.7404254141414"
      ],
      "text/plain": [
       "[1] 38.74043"
      ]
     },
     "metadata": {},
     "output_type": "display_data"
    }
   ],
   "source": [
    "varianza = sum((SECTOR_A$metros_cuadrados-mean(SECTOR_A$metros_cuadrados))^2)/(length(SECTOR_A$metros_cuadrados)-1)\n",
    "varianza"
   ]
  },
  {
   "cell_type": "code",
   "execution_count": 171,
   "metadata": {},
   "outputs": [
    {
     "data": {
      "text/html": [
       "38.7404254141414"
      ],
      "text/latex": [
       "38.7404254141414"
      ],
      "text/markdown": [
       "38.7404254141414"
      ],
      "text/plain": [
       "[1] 38.74043"
      ]
     },
     "metadata": {},
     "output_type": "display_data"
    }
   ],
   "source": [
    "var(SECTOR_A$metros_cuadrados)"
   ]
  },
  {
   "cell_type": "code",
   "execution_count": 181,
   "metadata": {},
   "outputs": [
    {
     "data": {
      "text/html": [
       "38.7404254141414"
      ],
      "text/latex": [
       "38.7404254141414"
      ],
      "text/markdown": [
       "38.7404254141414"
      ],
      "text/plain": [
       "[1] 38.74043"
      ]
     },
     "metadata": {},
     "output_type": "display_data"
    }
   ],
   "source": [
    "s_A"
   ]
  },
  {
   "cell_type": "code",
   "execution_count": 185,
   "metadata": {},
   "outputs": [
    {
     "data": {
      "text/html": [
       "56.1645792756539"
      ],
      "text/latex": [
       "56.1645792756539"
      ],
      "text/markdown": [
       "56.1645792756539"
      ],
      "text/plain": [
       "[1] 56.16458"
      ]
     },
     "metadata": {},
     "output_type": "display_data"
    }
   ],
   "source": [
    "s_B"
   ]
  },
  {
   "cell_type": "code",
   "execution_count": 189,
   "metadata": {},
   "outputs": [
    {
     "data": {
      "text/html": [
       "1.74588367627625"
      ],
      "text/latex": [
       "1.74588367627625"
      ],
      "text/markdown": [
       "1.74588367627625"
      ],
      "text/plain": [
       "[1] 1.745884"
      ]
     },
     "metadata": {},
     "output_type": "display_data"
    }
   ],
   "source": [
    "qt(0.95,16)"
   ]
  },
  {
   "cell_type": "markdown",
   "metadata": {},
   "source": [
    "$\\bar{x_A}$ vs $\\overline{x_A}$\n",
    "\n",
    "$\\bar{\\mathcal x_A}$ vs $\\overline{\\mathcal x_A}$\n",
    "\n",
    "$\\bar{x_ABC}$ vs $\\overline{x_ABC}$"
   ]
  },
  {
   "cell_type": "code",
   "execution_count": null,
   "metadata": {},
   "outputs": [],
   "source": []
  }
 ],
 "metadata": {
  "kernelspec": {
   "display_name": "R",
   "language": "R",
   "name": "ir"
  },
  "language_info": {
   "codemirror_mode": "r",
   "file_extension": ".r",
   "mimetype": "text/x-r-source",
   "name": "R",
   "pygments_lexer": "r",
   "version": "3.5.1"
  }
 },
 "nbformat": 4,
 "nbformat_minor": 2
}
