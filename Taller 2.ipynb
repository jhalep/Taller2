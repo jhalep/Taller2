{
 "cells": [
  {
   "cell_type": "code",
   "execution_count": 2,
   "metadata": {},
   "outputs": [],
   "source": [
    "library(readxl)\n",
    "SECTOR_A <- read_excel(\"SectorA.xlsx\")\n",
    "SECTOR_B <- read_excel(\"SectorB.xlsx\")"
   ]
  },
  {
   "cell_type": "markdown",
   "metadata": {},
   "source": [
    "# Primera Parte"
   ]
  },
  {
   "cell_type": "markdown",
   "metadata": {},
   "source": [
    "**1.\tConsidere la variable discreta de la información del sector A y realice un sucinto análisis exploratorio (sugerencia: solo mire ocurrencia y gráfico con medidas de tendencia central, variabilidad y localización).**"
   ]
  },
  {
   "cell_type": "code",
   "execution_count": 224,
   "metadata": {},
   "outputs": [
    {
     "data": {
      "text/plain": [
       "    Inmueble          tipo             estrato          numero_habitantes\n",
       " Min.   :  1.00   Length:100         Length:100         Min.   :0.00     \n",
       " 1st Qu.: 25.75   Class :character   Class :character   1st Qu.:2.00     \n",
       " Median : 50.50   Mode  :character   Mode  :character   Median :3.00     \n",
       " Mean   : 50.50                                         Mean   :3.13     \n",
       " 3rd Qu.: 75.25                                         3rd Qu.:4.00     \n",
       " Max.   :100.00                                         Max.   :7.00     \n",
       " metros_cuadrados\n",
       " Min.   :59.40   \n",
       " 1st Qu.:67.80   \n",
       " Median :70.75   \n",
       " Mean   :71.74   \n",
       " 3rd Qu.:74.68   \n",
       " Max.   :85.85   "
      ]
     },
     "metadata": {},
     "output_type": "display_data"
    }
   ],
   "source": [
    "summary(SECTOR_A)"
   ]
  },
  {
   "cell_type": "code",
   "execution_count": 225,
   "metadata": {},
   "outputs": [
    {
     "data": {
      "text/html": [
       "<table>\n",
       "<thead><tr><th scope=col>tipo</th><th scope=col>Freq</th></tr></thead>\n",
       "<tbody>\n",
       "\t<tr><td>No Residencial</td><td>20            </td></tr>\n",
       "\t<tr><td>Residencial   </td><td>80            </td></tr>\n",
       "</tbody>\n",
       "</table>\n"
      ],
      "text/latex": [
       "\\begin{tabular}{r|ll}\n",
       " tipo & Freq\\\\\n",
       "\\hline\n",
       "\t No Residencial & 20            \\\\\n",
       "\t Residencial    & 80            \\\\\n",
       "\\end{tabular}\n"
      ],
      "text/markdown": [
       "\n",
       "tipo | Freq | \n",
       "|---|---|\n",
       "| No Residencial | 20             | \n",
       "| Residencial    | 80             | \n",
       "\n",
       "\n"
      ],
      "text/plain": [
       "  tipo           Freq\n",
       "1 No Residencial 20  \n",
       "2 Residencial    80  "
      ]
     },
     "metadata": {},
     "output_type": "display_data"
    }
   ],
   "source": [
    "tipo = SECTOR_A$tipo\n",
    "tabla1  = data.frame(table(tipo))\n",
    "tabla1"
   ]
  },
  {
   "cell_type": "code",
   "execution_count": 226,
   "metadata": {},
   "outputs": [
    {
     "data": {
      "text/html": [
       "<table>\n",
       "<thead><tr><th scope=col>estrato</th><th scope=col>Freq</th></tr></thead>\n",
       "<tbody>\n",
       "\t<tr><td>Alto </td><td>32   </td></tr>\n",
       "\t<tr><td>Bajo </td><td>57   </td></tr>\n",
       "\t<tr><td>Medio</td><td>11   </td></tr>\n",
       "</tbody>\n",
       "</table>\n"
      ],
      "text/latex": [
       "\\begin{tabular}{r|ll}\n",
       " estrato & Freq\\\\\n",
       "\\hline\n",
       "\t Alto  & 32   \\\\\n",
       "\t Bajo  & 57   \\\\\n",
       "\t Medio & 11   \\\\\n",
       "\\end{tabular}\n"
      ],
      "text/markdown": [
       "\n",
       "estrato | Freq | \n",
       "|---|---|---|\n",
       "| Alto  | 32    | \n",
       "| Bajo  | 57    | \n",
       "| Medio | 11    | \n",
       "\n",
       "\n"
      ],
      "text/plain": [
       "  estrato Freq\n",
       "1 Alto    32  \n",
       "2 Bajo    57  \n",
       "3 Medio   11  "
      ]
     },
     "metadata": {},
     "output_type": "display_data"
    }
   ],
   "source": [
    "estrato = SECTOR_A$estrato\n",
    "tabla2  = data.frame(table(estrato))\n",
    "tabla2"
   ]
  },
  {
   "cell_type": "code",
   "execution_count": 3,
   "metadata": {},
   "outputs": [
    {
     "data": {
      "text/html": [
       "<table>\n",
       "<thead><tr><th scope=col>habitantes</th><th scope=col>Freq</th></tr></thead>\n",
       "<tbody>\n",
       "\t<tr><td>0 </td><td> 2</td></tr>\n",
       "\t<tr><td>1 </td><td>11</td></tr>\n",
       "\t<tr><td>2 </td><td>19</td></tr>\n",
       "\t<tr><td>3 </td><td>33</td></tr>\n",
       "\t<tr><td>4 </td><td>19</td></tr>\n",
       "\t<tr><td>5 </td><td> 9</td></tr>\n",
       "\t<tr><td>6 </td><td> 5</td></tr>\n",
       "\t<tr><td>7 </td><td> 2</td></tr>\n",
       "</tbody>\n",
       "</table>\n"
      ],
      "text/latex": [
       "\\begin{tabular}{r|ll}\n",
       " habitantes & Freq\\\\\n",
       "\\hline\n",
       "\t 0  &  2\\\\\n",
       "\t 1  & 11\\\\\n",
       "\t 2  & 19\\\\\n",
       "\t 3  & 33\\\\\n",
       "\t 4  & 19\\\\\n",
       "\t 5  &  9\\\\\n",
       "\t 6  &  5\\\\\n",
       "\t 7  &  2\\\\\n",
       "\\end{tabular}\n"
      ],
      "text/markdown": [
       "\n",
       "habitantes | Freq | \n",
       "|---|---|---|---|---|---|---|---|\n",
       "| 0  |  2 | \n",
       "| 1  | 11 | \n",
       "| 2  | 19 | \n",
       "| 3  | 33 | \n",
       "| 4  | 19 | \n",
       "| 5  |  9 | \n",
       "| 6  |  5 | \n",
       "| 7  |  2 | \n",
       "\n",
       "\n"
      ],
      "text/plain": [
       "  habitantes Freq\n",
       "1 0           2  \n",
       "2 1          11  \n",
       "3 2          19  \n",
       "4 3          33  \n",
       "5 4          19  \n",
       "6 5           9  \n",
       "7 6           5  \n",
       "8 7           2  "
      ]
     },
     "metadata": {},
     "output_type": "display_data"
    }
   ],
   "source": [
    "habitantes = SECTOR_A$numero_habitantes\n",
    "tabla3  = data.frame(table(habitantes))\n",
    "tabla3"
   ]
  },
  {
   "cell_type": "code",
   "execution_count": 4,
   "metadata": {
    "collapsed": true
   },
   "outputs": [
    {
     "data": {
      "image/png": "[encoded data removed]",
      "text/plain": [
       "Plot with title \"Histogram of habitantes\""
      ]
     },
     "metadata": {},
     "output_type": "display_data"
    }
   ],
   "source": [
    "hist(habitantes)"
   ]
  },
  {
   "cell_type": "code",
   "execution_count": 5,
   "metadata": {
    "collapsed": true
   },
   "outputs": [
    {
     "data": {
      "image/png": "[encoded data removed]",
      "text/plain": [
       "Plot with title \"Histogram of metros\""
      ]
     },
     "metadata": {},
     "output_type": "display_data"
    }
   ],
   "source": [
    "metros = SECTOR_A$metros_cuadrados\n",
    "hist(metros)"
   ]
  },
  {
   "cell_type": "markdown",
   "metadata": {},
   "source": [
    "**2.\tInvestigar sobre estadisticos de orden y usarlos para estimar el valor minimo y su respectivo error estandar.**"
   ]
  },
  {
   "cell_type": "markdown",
   "metadata": {},
   "source": [
    "# Segunda Parte"
   ]
  },
  {
   "cell_type": "markdown",
   "metadata": {},
   "source": [
    "Resolver los siguientes problemas usando inferencia clásica. Tener presente que son dos muestras de diferente tamaño. Resultados con justificación. "
   ]
  },
  {
   "cell_type": "markdown",
   "metadata": {},
   "source": [
    "**1. Con respecto a los inmuebles del sector B, estimar el porcentaje y error estándar de inmuebles residenciales que hace parte del estrato bajo.**"
   ]
  },
  {
   "cell_type": "markdown",
   "metadata": {},
   "source": [
    "Se estima la proporción muestral $\\hat{p}$ mediante $\\hat{p}=\\frac{x}{n}$ donde $x$ es la cantidad de muebles residenciales de estrato bajo del sector B\n",
    "$$\\hat{p}=\\frac{42}{71}=0.8028 = 80.28\\%$$\n",
    "\n",
    "La estimación del error estándar para una proporción es:\n",
    "\n",
    "$$st(r)=\\frac{s}{\\sqrt{n}} = \\sqrt{\\frac{r(1-r)}{n}} = \\sqrt{\\frac{0.59(1-0.59)}{71}} = 0.058$$"
   ]
  },
  {
   "cell_type": "code",
   "execution_count": 126,
   "metadata": {},
   "outputs": [
    {
     "data": {
      "text/html": [
       "71"
      ],
      "text/latex": [
       "71"
      ],
      "text/markdown": [
       "71"
      ],
      "text/plain": [
       "[1] 71"
      ]
     },
     "metadata": {},
     "output_type": "display_data"
    },
    {
     "data": {
      "text/html": [
       "0.591549295774648"
      ],
      "text/latex": [
       "0.591549295774648"
      ],
      "text/markdown": [
       "0.591549295774648"
      ],
      "text/plain": [
       "[1] 0.5915493"
      ]
     },
     "metadata": {},
     "output_type": "display_data"
    },
    {
     "data": {
      "text/html": [
       "0.0583359293585788"
      ],
      "text/latex": [
       "0.0583359293585788"
      ],
      "text/markdown": [
       "0.0583359293585788"
      ],
      "text/plain": [
       "[1] 0.05833593"
      ]
     },
     "metadata": {},
     "output_type": "display_data"
    }
   ],
   "source": [
    "n_B=length(SECTOR_B$estrato) #Tamaño de la muestra B\n",
    "p1=sum(SECTOR_B$tipo==\"Residencial\" & SECTOR_B$estrato==\"Bajo\")/n_B #estimación de la proporción\n",
    "st=sqrt((p1*(1-p1))/n_B) #Error estándar\n",
    "n_B\n",
    "p1\n",
    "st"
   ]
  },
  {
   "cell_type": "code",
   "execution_count": 126,
   "metadata": {},
   "outputs": [
    {
     "data": {
      "text/html": [
       "0.0583359293585788"
      ],
      "text/latex": [
       "0.0583359293585788"
      ],
      "text/markdown": [
       "0.0583359293585788"
      ],
      "text/plain": [
       "[1] 0.05833593"
      ]
     },
     "metadata": {},
     "output_type": "display_data"
    }
   ],
   "source": []
  },
  {
   "cell_type": "markdown",
   "metadata": {},
   "source": []
  },
  {
   "cell_type": "markdown",
   "metadata": {},
   "source": [
    "**2. Proponga un intervalo de confianza del 95%, para establecer la proporción de inmuebles de tipo residencial y que sea de estrato medio para el sector A.**"
   ]
  },
  {
   "cell_type": "markdown",
   "metadata": {},
   "source": [
    "Se estima la proporción muestral $\\hat{p}$ mediante $\\hat{p}=\\frac{x}{n}$ donde $x$ es la cantidad de muebles residenciales de estrato medio del sector B\n",
    "$$\\hat{p}=\\frac{11}{100}=0.11 = 11\\%$$\n",
    "\n",
    "Con el porcentaje de confianza requerido $100(1-\\alpha)\\%=95\\%$. Despejando tenemos, $\\alpha = 0.05$ el valor crítico $z_{\\alpha/2}$ es 1.96\n",
    "\n",
    "El intervalo de confianza de para una proporción está dado por: $[\\hat{p}-\\varepsilon,\\hat{p}+\\varepsilon]$ donde:\n",
    "\n",
    "$$\\varepsilon = z_{\\alpha/2}\\sqrt{\\frac{\\hat{p}(1-\\hat{p})}{n}} = 1.96\\sqrt{\\frac{0.11(1-0.11)}{100}} = 0.061$$\n",
    "\n",
    "Calculando el intervalo de confianza:\n",
    "\n",
    "$$(\\hat{r}-\\varepsilon,\\hat{r}+\\varepsilon) = (0.11 - 0.0613,0.11 + 0.0613)= (0.0486,0.1713)$$"
   ]
  },
  {
   "cell_type": "code",
   "execution_count": 140,
   "metadata": {},
   "outputs": [
    {
     "data": {
      "text/html": [
       "100"
      ],
      "text/latex": [
       "100"
      ],
      "text/markdown": [
       "100"
      ],
      "text/plain": [
       "[1] 100"
      ]
     },
     "metadata": {},
     "output_type": "display_data"
    },
    {
     "data": {
      "text/html": [
       "0.11"
      ],
      "text/latex": [
       "0.11"
      ],
      "text/markdown": [
       "0.11"
      ],
      "text/plain": [
       "[1] 0.11"
      ]
     },
     "metadata": {},
     "output_type": "display_data"
    },
    {
     "data": {
      "text/html": [
       "0.0613252654740242"
      ],
      "text/latex": [
       "0.0613252654740242"
      ],
      "text/markdown": [
       "0.0613252654740242"
      ],
      "text/plain": [
       "[1] 0.06132527"
      ]
     },
     "metadata": {},
     "output_type": "display_data"
    },
    {
     "data": {
      "text/html": [
       "0.0486747345259758"
      ],
      "text/latex": [
       "0.0486747345259758"
      ],
      "text/markdown": [
       "0.0486747345259758"
      ],
      "text/plain": [
       "[1] 0.04867473"
      ]
     },
     "metadata": {},
     "output_type": "display_data"
    },
    {
     "data": {
      "text/html": [
       "0.171325265474024"
      ],
      "text/latex": [
       "0.171325265474024"
      ],
      "text/markdown": [
       "0.171325265474024"
      ],
      "text/plain": [
       "[1] 0.1713253"
      ]
     },
     "metadata": {},
     "output_type": "display_data"
    }
   ],
   "source": [
    "#Tamaño de la muestra A\n",
    "n_A=length(SECTOR_A$estrato)\n",
    "#Estimación de la proporción\n",
    "p=sum(SECTOR_A$tipo==\"Residencial\" & SECTOR_A$estrato==\"Medio\")/n_A\n",
    "#Cálculo del Error\n",
    "error=qnorm(1-0.05/2)*sqrt((p*(1-p))/n_A)\n",
    "#Límite inferior del intervalo\n",
    "l_inf=p-error\n",
    "#Límite inferior del intervalo\n",
    "l_sup=p+error\n",
    "n_A\n",
    "r2\n",
    "error\n",
    "l_inf\n",
    "l_sup"
   ]
  },
  {
   "cell_type": "markdown",
   "metadata": {},
   "source": [
    "**3. ¿Es posible inferir que el más del 50% de los inmuebles del sector A tienen más de 75 metros cuadrados?**"
   ]
  },
  {
   "cell_type": "markdown",
   "metadata": {},
   "source": [
    "Se estima la proporción muestral $\\hat{p}$ mediante $\\hat{p}=\\frac{x}{n}$ donde $x$ es la cantidad de inmuebles residenciales del sector A con más de 75 metros cuadrados\n",
    "\n",
    "$$\\hat{p}=\\frac{24}{100}=0.24 = 24\\%$$\n",
    "\n",
    "Para realizar la inferencia se realiza una prueba de hipótesis sobre la proporción de inmuebles que tienen más de 75 metros cuadrados, con una confiabilidad del 95%. \n",
    "\n",
    "Las hipótesis a someter a prueba son: $$H_0:p_0=50\\%$$ $$H_1:p_0\\neq 50\\%$$\n",
    "\n",
    "El estadístico de prueba de una proporción para muestras grandes es:\n",
    "$$Z = \\frac{\\hat{p}-p_0}{\\sqrt{\\frac{p_0(1-p_0)}{n}}}$$\n",
    "\n",
    "Para la prueba a dos colas, se rechaza la hipótesis nula $H_0$ si\n",
    "\n",
    "$$Z< -Z_{\\alpha/2} \\ o\\ bien\\ Z > Z_{\\alpha/2}$$\n",
    "\n",
    "lo que es equivalente a $$\\mid Z \\mid> \\mid Z_{\\alpha/2}\\mid$$\n",
    "\n",
    "Tenemos que para una confiabilidad del 95%, el nivel de significancia $\\alpha$ es 0.05. Por lo que el valor crítico es:\n",
    "$$Z_{\\alpha/2}=1.96$$\n",
    "\n",
    "Reemplazando los valores y calculándo $Z$:\n",
    "\n",
    "$$Z = \\frac{0.24-0.5}{\\sqrt{\\frac{0.5(1-0.5)}{100}}} = -5.2$$\n",
    "\n",
    "Como  la desigualdad $\\mid-5.2 \\mid>\\mid-1.96 \\mid$ se cumple, se rechaza la hipótesis nula. Por lo tanto, no hay suficiente evidencia estadística para afirmar que el 50% de los inmuebles del sector A tienen más de 75 metros cuadrados."
   ]
  },
  {
   "cell_type": "markdown",
   "metadata": {},
   "source": []
  },
  {
   "cell_type": "code",
   "execution_count": 145,
   "metadata": {},
   "outputs": [
    {
     "data": {
      "text/html": [
       "100"
      ],
      "text/latex": [
       "100"
      ],
      "text/markdown": [
       "100"
      ],
      "text/plain": [
       "[1] 100"
      ]
     },
     "metadata": {},
     "output_type": "display_data"
    },
    {
     "data": {
      "text/html": [
       "0.24"
      ],
      "text/latex": [
       "0.24"
      ],
      "text/markdown": [
       "0.24"
      ],
      "text/plain": [
       "[1] 0.24"
      ]
     },
     "metadata": {},
     "output_type": "display_data"
    },
    {
     "data": {
      "text/html": [
       "-5.2"
      ],
      "text/latex": [
       "-5.2"
      ],
      "text/markdown": [
       "-5.2"
      ],
      "text/plain": [
       "[1] -5.2"
      ]
     },
     "metadata": {},
     "output_type": "display_data"
    },
    {
     "data": {
      "text/html": [
       "1.95996398454005"
      ],
      "text/latex": [
       "1.95996398454005"
      ],
      "text/markdown": [
       "1.95996398454005"
      ],
      "text/plain": [
       "[1] 1.959964"
      ]
     },
     "metadata": {},
     "output_type": "display_data"
    }
   ],
   "source": [
    "#Tamaño de la muestra A\n",
    "n_A=length(SECTOR_A$metros_cuadrados)\n",
    "#Estimación de la proporción\n",
    "p=sum(SECTOR_A$metros_cuadrados>75)/n_A\n",
    "#Cálculo del estadístico de prueba\n",
    "Z = (0.24-0.5)/sqrt(0.5*(1-0.5)/100)\n",
    "#Valor crítico\n",
    "Z_crit=qnorm(1-0.05/2)\n",
    "n_A\n",
    "p\n",
    "Z\n",
    "Z_crit"
   ]
  },
  {
   "cell_type": "code",
   "execution_count": 101,
   "metadata": {},
   "outputs": [
    {
     "data": {
      "text/plain": [
       "\n",
       "\t1-sample proportions test with continuity correction\n",
       "\n",
       "data:  24 out of 71, null probability 0.5\n",
       "X-squared = 6.8169, df = 1, p-value = 0.00903\n",
       "alternative hypothesis: true p is not equal to 0.5\n",
       "95 percent confidence interval:\n",
       " 0.2326983 0.4610189\n",
       "sample estimates:\n",
       "        p \n",
       "0.3380282 \n"
      ]
     },
     "metadata": {},
     "output_type": "display_data"
    }
   ],
   "source": [
    "prop.test(24, 71, conf.level = 0.95)"
   ]
  },
  {
   "cell_type": "markdown",
   "metadata": {},
   "source": [
    "**4. Usando una prueba de hipótesis con el 99% de confianza e indicar si hay diferencias significativas entre los metros cuadrados de los inmuebles de sector A y del sector B. (suponer normalidad) (Sugerencia: No olvide estudiar la varianza de los metros cuadrados de cada sector para decidir que prueba usar )**"
   ]
  },
  {
   "cell_type": "markdown",
   "metadata": {},
   "source": [
    "Para conocer qué prueba de hipótesis se debe usar, se realiza primero una prueba de hipótesis respecto a la igualdad de las dos varianzas. Las hipótesis propuestas son: \n",
    "$$H_0: \\sigma_A^2 = \\sigma_B^2$$ \n",
    "\n",
    "$$H_1: \\sigma_A^2 \\neq \\sigma_B^2$$\n",
    "\n",
    "Las varianzas muestrales son: \n",
    "\n",
    "$$s_A^2=\\sum_{i=0}^{n_A} \\frac{(x_{Ai}-\\overline{x_A})^2}{n_A-1}= 38.74$$\n",
    "\n",
    "$$s_B^2=\\sum_{i=0}^{n_B} \\frac{(x_{Bi}-\\overline{x_B})^2}{n_B-1}= 56.16$$\n",
    "\n",
    "El estadístico de prueba para la comparación de varianzas es $$F=\\frac{s_A^2}{s_B^2} = \\frac{38.74}{56.16}=0.69$$\n",
    "\n",
    "La hipótesis nula se rechaza cuando $$F>F_{1-\\alpha/2,glA,glB}$$\n",
    "\n",
    "Para una confiabilidad del 95%, tenemos que el nivel de significancia es $\\alpha=0.05$, y los grados de libertad son $gl_A=(n_A-1)=99$ y $gl_B=(n_B-1)=70$\n",
    "\n",
    "Entonces, el valor crítico es: \n",
    "$$F_{0.975,99,70} = 1.533 $$\n",
    "\n",
    "Debido a que el estadístico de prueba $F=0.69$ no supera el valor crítico $F_{0.975,99,70} = 1.533 $, no se puede rechazar la hipótesis nula. Por lo tanto, hay evidencia estadística para aceptar que las varianzas son iguales."
   ]
  },
  {
   "cell_type": "code",
   "execution_count": 176,
   "metadata": {},
   "outputs": [
    {
     "data": {
      "text/html": [
       "38.7404254141414"
      ],
      "text/latex": [
       "38.7404254141414"
      ],
      "text/markdown": [
       "38.7404254141414"
      ],
      "text/plain": [
       "[1] 38.74043"
      ]
     },
     "metadata": {},
     "output_type": "display_data"
    },
    {
     "data": {
      "text/html": [
       "56.1645792756539"
      ],
      "text/latex": [
       "56.1645792756539"
      ],
      "text/markdown": [
       "56.1645792756539"
      ],
      "text/plain": [
       "[1] 56.16458"
      ]
     },
     "metadata": {},
     "output_type": "display_data"
    },
    {
     "data": {
      "text/html": [
       "0.689766146453348"
      ],
      "text/latex": [
       "0.689766146453348"
      ],
      "text/markdown": [
       "0.689766146453348"
      ],
      "text/plain": [
       "[1] 0.6897661"
      ]
     },
     "metadata": {},
     "output_type": "display_data"
    },
    {
     "data": {
      "text/html": [
       "1.53371802366158"
      ],
      "text/latex": [
       "1.53371802366158"
      ],
      "text/markdown": [
       "1.53371802366158"
      ],
      "text/plain": [
       "[1] 1.533718"
      ]
     },
     "metadata": {},
     "output_type": "display_data"
    }
   ],
   "source": [
    "#Varianza muestral sector A\n",
    "s2_A=var(SECTOR_A$metros_cuadrados)\n",
    "#Varianza muestral sector B\n",
    "s2_B=var(SECTOR_B$metros_cuadrados)\n",
    "#Estadístico de prueba\n",
    "F=(s2_A)/(s2_B)\n",
    "#Valor Crítico\n",
    "F_crit=qf(1-0.05/2,df1=70,df2=99)\n",
    "s2_A\n",
    "s2_B\n",
    "F\n",
    "F_crit"
   ]
  },
  {
   "cell_type": "markdown",
   "metadata": {},
   "source": [
    "Con este resultado, se propone la siguiente prueba de hipótesis respecto a la diferencia de medias de las dos muestras con varianzas iguales: \n",
    "$$H_0: (\\mu_A-\\mu_B)=D_0$$\n",
    "$$H_1: (\\mu_A-\\mu_B)\\neq D_0$$\n",
    "\n",
    "$$con\\ D_0=0 $$\n",
    "\n",
    "El Estadístico de prueba es:\n",
    "$$t= \\frac{(\\overline{x_A}-\\overline{x_B})-D_0}{s_p \\sqrt{\\frac{1}{n_A}+\\frac{1}{n_B}}}$$\n",
    "\n",
    "donde $s_p$ es el promedio ponderado de las varianzas muestrales: $$s_p= \\frac{(n_A-1)s_A^2+(n_B-1)s_B^2}{n_A+n_B-2}$$\n",
    "\n",
    "La prueba de hipótesis se rechaza cuando $t>t_{\\alpha}$. El valor crítico de $t_{\\alpha}$ está basado en $n_A+n_B-2=100+71-2=169$ grados de libertad\n",
    "\n",
    "Para $100(1-\\alpha)\\%=99\\%$. el nivel de significancia es, $\\alpha = 0.01$. Entonces, el valor crítico es:\n",
    "\n",
    "$$t_{\\alpha,169}=2.348$$\n",
    "\n",
    "Con las varianzas muestrales $s_A=38.74$ y $s_B=56.16$, Calculamos $s_p:$\n",
    "\n",
    "$$s_p= \\sqrt{\\frac{(100-1)38.74+(71-1)56.16}{100+71-2}}=6.78$$\n",
    "\n",
    "Con los promedios muestrales de los metros cuadrados de cada sector $\\overline{x_A}=71.74$ y $\\overline{x_B}=71.19$, podemos calcular $t:$\n",
    "\n",
    "$$t= \\frac{(71.74-71.19)-0}{6.78 \\sqrt{\\frac{1}{100}+\\frac{1}{71}}}= 0.525$$\n",
    "\n",
    "Al comparar el valor crítico $t_{\\alpha,169}=2.348$ con el estadístico de prueba $t=0.525$, no se puede rechazar la hipótesis nula ya que no se cumple la desigualdad $t>t_{\\alpha}$. Por lo tanto, hay evidencia estadística para aceptar con un 99% de confianza que no hay diferencias significativas entre los metros cuadrados de los inmuebles del sector A y sector B."
   ]
  },
  {
   "cell_type": "code",
   "execution_count": 177,
   "metadata": {},
   "outputs": [
    {
     "data": {
      "text/html": [
       "6.77919837177526"
      ],
      "text/latex": [
       "6.77919837177526"
      ],
      "text/markdown": [
       "6.77919837177526"
      ],
      "text/plain": [
       "[1] 6.779198"
      ]
     },
     "metadata": {},
     "output_type": "display_data"
    },
    {
     "data": {
      "text/html": [
       "71.7422"
      ],
      "text/latex": [
       "71.7422"
      ],
      "text/markdown": [
       "71.7422"
      ],
      "text/plain": [
       "[1] 71.7422"
      ]
     },
     "metadata": {},
     "output_type": "display_data"
    },
    {
     "data": {
      "text/html": [
       "71.1891549295775"
      ],
      "text/latex": [
       "71.1891549295775"
      ],
      "text/markdown": [
       "71.1891549295775"
      ],
      "text/plain": [
       "[1] 71.18915"
      ]
     },
     "metadata": {},
     "output_type": "display_data"
    },
    {
     "data": {
      "text/html": [
       "0.525670132990999"
      ],
      "text/latex": [
       "0.525670132990999"
      ],
      "text/markdown": [
       "0.525670132990999"
      ],
      "text/plain": [
       "[1] 0.5256701"
      ]
     },
     "metadata": {},
     "output_type": "display_data"
    },
    {
     "data": {
      "text/html": [
       "2.3486150651675"
      ],
      "text/latex": [
       "2.3486150651675"
      ],
      "text/markdown": [
       "2.3486150651675"
      ],
      "text/plain": [
       "[1] 2.348615"
      ]
     },
     "metadata": {},
     "output_type": "display_data"
    }
   ],
   "source": [
    "#Varianza muestral ponderada\n",
    "s_p=sqrt((99*s2_A+70*s2_B)/(100+71-2))\n",
    "#Promedio muestral metros cuadrados sector A\n",
    "x_A=mean(SECTOR_A$metros_cuadrados)\n",
    "#Promedio muestral metros cuadrados sector B\n",
    "x_B=mean(SECTOR_B$metros_cuadrados)\n",
    "#Estadístico de prueba\n",
    "t=(x_A-x_B)/(s_p*sqrt(1/n_A+1/n_B))\n",
    "#Valor crítico\n",
    "t_crit = qt(1-0.01,169)\n",
    "s_p\n",
    "x_A\n",
    "x_B\n",
    "t\n",
    "t_crit"
   ]
  },
  {
   "cell_type": "markdown",
   "metadata": {},
   "source": [
    "**5. Pensando en un modelo de Poisson, ¿cuántos habitantes por inmueble se estima para el sector B? (No olvide calcular el error estandar). Estime la probabilidad de que las personas tengan entre 3 y 5 habitantes por inmuebles en el sector B. (Aquí noo es necesario calcular el  error estandar).**"
   ]
  },
  {
   "cell_type": "markdown",
   "metadata": {},
   "source": [
    "Utilizando el modelo de Poisson la estimación de habitantes se realiza mediante la estimación de $\\lambda$. A partir de la estimación de máxima verosimilitud se tiene que $$\\lambda=\\sum_{i=0}^{n} \\frac{x_i}{n}=\\sum_{i=0}^{71} \\frac{x_i}{71}=4.83$$\n",
    "\n",
    "El error estándar se calcula como $$st(\\lambda)=\\frac{\\lambda}{\\sqrt{n}} = \\frac{4.83}{71} = 0.068$$\n",
    "\n",
    "La función de probabilidad para el modelo Poisson es la siguiente:\n",
    "$$p(x) = \\left\\{\n",
    "   \\begin{array}{ll}\n",
    " \\frac{e^{-\\lambda} \\lambda^x}{x!}      & \\mathrm{si\\ } x =0,1,2,... 3 \\\\\n",
    "  0     & en\\ otro\\ caso\n",
    "   \\end{array}\n",
    " \\right.$$\n",
    " \n",
    " Ahora, para estimar la probabilidad de que hayan entre 3 y 5 habitantes por inmueble:\n",
    " \n",
    " $$P[3\\le x \\le 5] = P[x=3]+P[x=4]+P[x=5]= 0.150+0.181+0.175 = 0.5059 = 50.59\\%$$\n",
    " \n",
    " La probabilidad de que hayan entre 3 y 5 habitantes por inmueble en el sector es del 50.59%"
   ]
  },
  {
   "cell_type": "code",
   "execution_count": 178,
   "metadata": {},
   "outputs": [
    {
     "data": {
      "text/html": [
       "4.83098591549296"
      ],
      "text/latex": [
       "4.83098591549296"
      ],
      "text/markdown": [
       "4.83098591549296"
      ],
      "text/plain": [
       "[1] 4.830986"
      ]
     },
     "metadata": {},
     "output_type": "display_data"
    },
    {
     "data": {
      "text/html": [
       "0.0680420551477881"
      ],
      "text/latex": [
       "0.0680420551477881"
      ],
      "text/markdown": [
       "0.0680420551477881"
      ],
      "text/plain": [
       "[1] 0.06804206"
      ]
     },
     "metadata": {},
     "output_type": "display_data"
    },
    {
     "data": {
      "text/html": [
       "0.50596043380027"
      ],
      "text/latex": [
       "0.50596043380027"
      ],
      "text/markdown": [
       "0.50596043380027"
      ],
      "text/plain": [
       "[1] 0.5059604"
      ]
     },
     "metadata": {},
     "output_type": "display_data"
    }
   ],
   "source": [
    "#Estimación de habitantes por inmueble\n",
    "lambda = mean(SECTOR_B$numero_habitantes)\n",
    "#Error estándar\n",
    "st_lambda=lambda/n_B\n",
    "#Probabilidad de que hayan entre 3 y 5 habitantes por inmueble\n",
    "prob=dpois(3,lambda)+dpois(4,lambda)+dpois(5,lambda)\n",
    "lambda\n",
    "st_lambda\n",
    "prob"
   ]
  },
  {
   "cell_type": "markdown",
   "metadata": {},
   "source": []
  },
  {
   "cell_type": "markdown",
   "metadata": {},
   "source": []
  },
  {
   "cell_type": "code",
   "execution_count": 36,
   "metadata": {},
   "outputs": [
    {
     "data": {
      "text/html": [
       "0.50596043380027"
      ],
      "text/latex": [
       "0.50596043380027"
      ],
      "text/markdown": [
       "0.50596043380027"
      ],
      "text/plain": [
       "[1] 0.5059604"
      ]
     },
     "metadata": {},
     "output_type": "display_data"
    }
   ],
   "source": []
  },
  {
   "cell_type": "markdown",
   "metadata": {},
   "source": []
  },
  {
   "cell_type": "markdown",
   "metadata": {},
   "source": [
    "**6. Encontrar evidencia estadística para decidir si la proporción de inmuebles residenciales del Sector B, es 3 veces la proporción de inmuebles no residenciales.**"
   ]
  },
  {
   "cell_type": "markdown",
   "metadata": {},
   "source": [
    "Se necesita establecer si la proporción de inmuebles residenciales del sector B es tres veces la proporción de inmuebles no residenciales: $r_{ir} = 3\\cdot r_{inr}$\n",
    "\n",
    "Teniendo que $r_{inr} = 1 - r_{ir}$, se reemplaza y despeja la proporción de inmuebles residenciales que será sometida a prueba:\n",
    "$$r_{ir} = 3\\cdot r_{inr}$$\n",
    "$$r_{ir} = 3\\cdot (1-r_{ir})$$\n",
    "$$r_{ir} =  \\frac{3}{4}=0.75$$\n",
    "\n",
    "Calculamos la proporción muestral $\\hat{p}$ mediante $\\hat{p}=\\frac{x}{n}$ donde $x$ es la cantidad de muebles residenciales del sector B\n",
    "$$\\hat{p}=\\frac{57}{71}=0.8028 = 80.28\\%$$\n",
    "\n",
    "Las hipótesis a someter a prueba son: $$H_0:p_0=75\\%$$ $$H_1:p_0\\neq 75\\%$$\n",
    "\n",
    "El Estadístico de prueba de una proporción para muestras mayores o igual a 30 es:\n",
    "\n",
    "$$Z = \\frac{\\hat{p}-p_0}{\\sqrt{\\frac{p_0(1-p_0)}{n}}} = \\frac{0.8028-0.75}{\\sqrt{\\frac{0.75(1-0.75)}{71}}}=1.027$$\n",
    "\n",
    "Para la prueba a dos colas, la hipótesis nula $H_0$ es rechazada si $\\mid Z \\mid >\\mid Z_{\\alpha/2}\\mid$\n",
    "\n",
    "Para lograr una confiabilidad del 95%, el nivel de significancia $\\alpha$ es 0.05. Por lo que\n",
    "$$Z_{\\alpha/2}=1.96$$\n",
    "\n",
    "Como  la desigualdad $\\mid 1.027 \\mid > \\mid 1.96\\mid $ no se cumple, no se puede rechazar la hipótesis nula. Por lo tanto, hay evidencia estadística para aceptar que la proporción de inmuebles residenciales del Sector B, es 3 veces la proporción de inmuebles no residenciales"
   ]
  },
  {
   "cell_type": "code",
   "execution_count": 180,
   "metadata": {},
   "outputs": [
    {
     "data": {
      "text/html": [
       "0.802816901408451"
      ],
      "text/latex": [
       "0.802816901408451"
      ],
      "text/markdown": [
       "0.802816901408451"
      ],
      "text/plain": [
       "[1] 0.8028169"
      ]
     },
     "metadata": {},
     "output_type": "display_data"
    },
    {
     "data": {
      "text/html": [
       "1.0277830647413"
      ],
      "text/latex": [
       "1.0277830647413"
      ],
      "text/markdown": [
       "1.0277830647413"
      ],
      "text/plain": [
       "[1] 1.027783"
      ]
     },
     "metadata": {},
     "output_type": "display_data"
    },
    {
     "data": {
      "text/html": [
       "1.95996398454005"
      ],
      "text/latex": [
       "1.95996398454005"
      ],
      "text/markdown": [
       "1.95996398454005"
      ],
      "text/plain": [
       "[1] 1.959964"
      ]
     },
     "metadata": {},
     "output_type": "display_data"
    }
   ],
   "source": [
    "#Proporción de inmuebles residenciales del sector B\n",
    "p_r=sum(SECTOR_B$tipo==\"Residencial\")/n_B\n",
    "#Estadístico de prueba\n",
    "Z=(p_r-0.75)/sqrt(0.75*0.25/71)\n",
    "#Valor crítico\n",
    "Z_crit=qnorm(1-0.05/2)\n",
    "p_r\n",
    "Z\n",
    "Z_crit"
   ]
  },
  {
   "cell_type": "code",
   "execution_count": 111,
   "metadata": {},
   "outputs": [
    {
     "data": {
      "text/html": [
       "0.802816901408451"
      ],
      "text/latex": [
       "0.802816901408451"
      ],
      "text/markdown": [
       "0.802816901408451"
      ],
      "text/plain": [
       "[1] 0.8028169"
      ]
     },
     "metadata": {},
     "output_type": "display_data"
    }
   ],
   "source": []
  },
  {
   "cell_type": "code",
   "execution_count": 109,
   "metadata": {},
   "outputs": [
    {
     "data": {
      "text/html": [
       "1.0277830647413"
      ],
      "text/latex": [
       "1.0277830647413"
      ],
      "text/markdown": [
       "1.0277830647413"
      ],
      "text/plain": [
       "[1] 1.027783"
      ]
     },
     "metadata": {},
     "output_type": "display_data"
    }
   ],
   "source": []
  },
  {
   "cell_type": "markdown",
   "metadata": {},
   "source": []
  },
  {
   "cell_type": "code",
   "execution_count": 110,
   "metadata": {},
   "outputs": [
    {
     "data": {
      "text/plain": [
       "\n",
       "\t1-sample proportions test with continuity correction\n",
       "\n",
       "data:  57 out of 71, null probability 0.5\n",
       "X-squared = 24.845, df = 1, p-value = 6.213e-07\n",
       "alternative hypothesis: true p is not equal to 0.5\n",
       "95 percent confidence interval:\n",
       " 0.6880072 0.8842697\n",
       "sample estimates:\n",
       "        p \n",
       "0.8028169 \n"
      ]
     },
     "metadata": {},
     "output_type": "display_data"
    }
   ],
   "source": [
    "prop.test(57, 71, conf.level = 0.95)"
   ]
  },
  {
   "cell_type": "code",
   "execution_count": null,
   "metadata": {},
   "outputs": [],
   "source": []
  },
  {
   "cell_type": "code",
   "execution_count": null,
   "metadata": {},
   "outputs": [],
   "source": []
  },
  {
   "cell_type": "code",
   "execution_count": null,
   "metadata": {},
   "outputs": [],
   "source": []
  },
  {
   "cell_type": "code",
   "execution_count": null,
   "metadata": {},
   "outputs": [],
   "source": []
  }
 ],
 "metadata": {
  "kernelspec": {
   "display_name": "R",
   "language": "R",
   "name": "ir"
  },
  "language_info": {
   "codemirror_mode": "r",
   "file_extension": ".r",
   "mimetype": "text/x-r-source",
   "name": "R",
   "pygments_lexer": "r",
   "version": "3.5.1"
  }
 },
 "nbformat": 4,
 "nbformat_minor": 2
}
