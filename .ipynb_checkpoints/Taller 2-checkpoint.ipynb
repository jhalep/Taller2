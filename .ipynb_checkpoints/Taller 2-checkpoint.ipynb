{
 "cells": [
  {
   "cell_type": "code",
   "execution_count": 2,
   "metadata": {},
   "outputs": [],
   "source": [
    "library(readxl)\n",
    "SECTOR_A <- read_excel(\"SectorA.xlsx\")\n",
    "SECTOR_B <- read_excel(\"SectorB.xlsx\")"
   ]
  },
  {
   "cell_type": "markdown",
   "metadata": {},
   "source": [
    "# Primera Parte"
   ]
  },
  {
   "cell_type": "markdown",
   "metadata": {},
   "source": [
    "**1.\tConsidere la variable discreta de la información del sector A y realice un sucinto análisis exploratorio (sugerencia: solo mire ocurrencia y gráfico con medidas de tendencia central, variabilidad y localización).**"
   ]
  },
  {
   "cell_type": "code",
   "execution_count": 224,
   "metadata": {},
   "outputs": [
    {
     "data": {
      "text/plain": [
       "    Inmueble          tipo             estrato          numero_habitantes\n",
       " Min.   :  1.00   Length:100         Length:100         Min.   :0.00     \n",
       " 1st Qu.: 25.75   Class :character   Class :character   1st Qu.:2.00     \n",
       " Median : 50.50   Mode  :character   Mode  :character   Median :3.00     \n",
       " Mean   : 50.50                                         Mean   :3.13     \n",
       " 3rd Qu.: 75.25                                         3rd Qu.:4.00     \n",
       " Max.   :100.00                                         Max.   :7.00     \n",
       " metros_cuadrados\n",
       " Min.   :59.40   \n",
       " 1st Qu.:67.80   \n",
       " Median :70.75   \n",
       " Mean   :71.74   \n",
       " 3rd Qu.:74.68   \n",
       " Max.   :85.85   "
      ]
     },
     "metadata": {},
     "output_type": "display_data"
    }
   ],
   "source": [
    "summary(SECTOR_A)"
   ]
  },
  {
   "cell_type": "code",
   "execution_count": 225,
   "metadata": {},
   "outputs": [
    {
     "data": {
      "text/html": [
       "<table>\n",
       "<thead><tr><th scope=col>tipo</th><th scope=col>Freq</th></tr></thead>\n",
       "<tbody>\n",
       "\t<tr><td>No Residencial</td><td>20            </td></tr>\n",
       "\t<tr><td>Residencial   </td><td>80            </td></tr>\n",
       "</tbody>\n",
       "</table>\n"
      ],
      "text/latex": [
       "\\begin{tabular}{r|ll}\n",
       " tipo & Freq\\\\\n",
       "\\hline\n",
       "\t No Residencial & 20            \\\\\n",
       "\t Residencial    & 80            \\\\\n",
       "\\end{tabular}\n"
      ],
      "text/markdown": [
       "\n",
       "tipo | Freq | \n",
       "|---|---|\n",
       "| No Residencial | 20             | \n",
       "| Residencial    | 80             | \n",
       "\n",
       "\n"
      ],
      "text/plain": [
       "  tipo           Freq\n",
       "1 No Residencial 20  \n",
       "2 Residencial    80  "
      ]
     },
     "metadata": {},
     "output_type": "display_data"
    }
   ],
   "source": [
    "tipo = SECTOR_A$tipo\n",
    "tabla1  = data.frame(table(tipo))\n",
    "tabla1"
   ]
  },
  {
   "cell_type": "code",
   "execution_count": 226,
   "metadata": {},
   "outputs": [
    {
     "data": {
      "text/html": [
       "<table>\n",
       "<thead><tr><th scope=col>estrato</th><th scope=col>Freq</th></tr></thead>\n",
       "<tbody>\n",
       "\t<tr><td>Alto </td><td>32   </td></tr>\n",
       "\t<tr><td>Bajo </td><td>57   </td></tr>\n",
       "\t<tr><td>Medio</td><td>11   </td></tr>\n",
       "</tbody>\n",
       "</table>\n"
      ],
      "text/latex": [
       "\\begin{tabular}{r|ll}\n",
       " estrato & Freq\\\\\n",
       "\\hline\n",
       "\t Alto  & 32   \\\\\n",
       "\t Bajo  & 57   \\\\\n",
       "\t Medio & 11   \\\\\n",
       "\\end{tabular}\n"
      ],
      "text/markdown": [
       "\n",
       "estrato | Freq | \n",
       "|---|---|---|\n",
       "| Alto  | 32    | \n",
       "| Bajo  | 57    | \n",
       "| Medio | 11    | \n",
       "\n",
       "\n"
      ],
      "text/plain": [
       "  estrato Freq\n",
       "1 Alto    32  \n",
       "2 Bajo    57  \n",
       "3 Medio   11  "
      ]
     },
     "metadata": {},
     "output_type": "display_data"
    }
   ],
   "source": [
    "estrato = SECTOR_A$estrato\n",
    "tabla2  = data.frame(table(estrato))\n",
    "tabla2"
   ]
  },
  {
   "cell_type": "code",
   "execution_count": 3,
   "metadata": {},
   "outputs": [
    {
     "data": {
      "text/html": [
       "<table>\n",
       "<thead><tr><th scope=col>habitantes</th><th scope=col>Freq</th></tr></thead>\n",
       "<tbody>\n",
       "\t<tr><td>0 </td><td> 2</td></tr>\n",
       "\t<tr><td>1 </td><td>11</td></tr>\n",
       "\t<tr><td>2 </td><td>19</td></tr>\n",
       "\t<tr><td>3 </td><td>33</td></tr>\n",
       "\t<tr><td>4 </td><td>19</td></tr>\n",
       "\t<tr><td>5 </td><td> 9</td></tr>\n",
       "\t<tr><td>6 </td><td> 5</td></tr>\n",
       "\t<tr><td>7 </td><td> 2</td></tr>\n",
       "</tbody>\n",
       "</table>\n"
      ],
      "text/latex": [
       "\\begin{tabular}{r|ll}\n",
       " habitantes & Freq\\\\\n",
       "\\hline\n",
       "\t 0  &  2\\\\\n",
       "\t 1  & 11\\\\\n",
       "\t 2  & 19\\\\\n",
       "\t 3  & 33\\\\\n",
       "\t 4  & 19\\\\\n",
       "\t 5  &  9\\\\\n",
       "\t 6  &  5\\\\\n",
       "\t 7  &  2\\\\\n",
       "\\end{tabular}\n"
      ],
      "text/markdown": [
       "\n",
       "habitantes | Freq | \n",
       "|---|---|---|---|---|---|---|---|\n",
       "| 0  |  2 | \n",
       "| 1  | 11 | \n",
       "| 2  | 19 | \n",
       "| 3  | 33 | \n",
       "| 4  | 19 | \n",
       "| 5  |  9 | \n",
       "| 6  |  5 | \n",
       "| 7  |  2 | \n",
       "\n",
       "\n"
      ],
      "text/plain": [
       "  habitantes Freq\n",
       "1 0           2  \n",
       "2 1          11  \n",
       "3 2          19  \n",
       "4 3          33  \n",
       "5 4          19  \n",
       "6 5           9  \n",
       "7 6           5  \n",
       "8 7           2  "
      ]
     },
     "metadata": {},
     "output_type": "display_data"
    }
   ],
   "source": [
    "habitantes = SECTOR_A$numero_habitantes\n",
    "tabla3  = data.frame(table(habitantes))\n",
    "tabla3"
   ]
  },
  {
   "cell_type": "code",
   "execution_count": 4,
   "metadata": {
    "collapsed": true
   },
   "outputs": [
    {
     "data": {
      "image/png": "[encoded data removed]",
      "text/plain": [
       "Plot with title \"Histogram of habitantes\""
      ]
     },
     "metadata": {},
     "output_type": "display_data"
    }
   ],
   "source": [
    "hist(habitantes)"
   ]
  },
  {
   "cell_type": "code",
   "execution_count": 5,
   "metadata": {
    "collapsed": true
   },
   "outputs": [
    {
     "data": {
      "image/png": "[encoded data removed]",
      "text/plain": [
       "Plot with title \"Histogram of metros\""
      ]
     },
     "metadata": {},
     "output_type": "display_data"
    }
   ],
   "source": [
    "metros = SECTOR_A$metros_cuadrados\n",
    "hist(metros)"
   ]
  },
  {
   "cell_type": "markdown",
   "metadata": {},
   "source": [
    "**2.\tInvestigar sobre estadisticos de orden y usarlos para estimar el valor minimo y su respectivo error estandar.**"
   ]
  },
  {
   "cell_type": "markdown",
   "metadata": {},
   "source": [
    "# Segunda Parte"
   ]
  },
  {
   "cell_type": "markdown",
   "metadata": {},
   "source": [
    "Resolver los siguientes problemas usando inferencia clásica. Tener presente que son dos muestras de diferente tamaño. Resultados con justificación. "
   ]
  },
  {
   "cell_type": "markdown",
   "metadata": {},
   "source": [
    "**1. Con respecto a los inmuebles del sector B, estimar el porcentaje y error estándar de inmuebles residenciales que hace parte del estrato bajo.**"
   ]
  },
  {
   "cell_type": "code",
   "execution_count": 12,
   "metadata": {},
   "outputs": [
    {
     "data": {
      "text/html": [
       "71"
      ],
      "text/latex": [
       "71"
      ],
      "text/markdown": [
       "71"
      ],
      "text/plain": [
       "[1] 71"
      ]
     },
     "metadata": {},
     "output_type": "display_data"
    }
   ],
   "source": [
    "n_B=length(SECTOR_B$estrato)\n",
    "n_B"
   ]
  },
  {
   "cell_type": "code",
   "execution_count": 231,
   "metadata": {},
   "outputs": [
    {
     "data": {
      "text/html": [
       "0.591549295774648"
      ],
      "text/latex": [
       "0.591549295774648"
      ],
      "text/markdown": [
       "0.591549295774648"
      ],
      "text/plain": [
       "[1] 0.5915493"
      ]
     },
     "metadata": {},
     "output_type": "display_data"
    }
   ],
   "source": [
    "r1=sum(SECTOR_B$estrato==\"Bajo\")/n_B\n",
    "r1"
   ]
  },
  {
   "cell_type": "code",
   "execution_count": 126,
   "metadata": {},
   "outputs": [
    {
     "data": {
      "text/html": [
       "0.0583359293585788"
      ],
      "text/latex": [
       "0.0583359293585788"
      ],
      "text/markdown": [
       "0.0583359293585788"
      ],
      "text/plain": [
       "[1] 0.05833593"
      ]
     },
     "metadata": {},
     "output_type": "display_data"
    }
   ],
   "source": [
    "st=sqrt((r1*(1-r1))/n_B)\n",
    "st"
   ]
  },
  {
   "cell_type": "markdown",
   "metadata": {},
   "source": [
    "$$st(r)=\\frac{s}{\\sqrt{n}} = \\sqrt{\\frac{r(1-r)}{n}} = \\sqrt{\\frac{0.59(1-0.59)}{71}} = 0.058$$"
   ]
  },
  {
   "cell_type": "markdown",
   "metadata": {},
   "source": [
    "**2. Proponga un intervalo de confianza del 95%, para establecer la proporción de inmuebles de tipo residencial y que sea de estrato medio para el sector A.**"
   ]
  },
  {
   "cell_type": "code",
   "execution_count": 11,
   "metadata": {},
   "outputs": [
    {
     "data": {
      "text/html": [
       "100"
      ],
      "text/latex": [
       "100"
      ],
      "text/markdown": [
       "100"
      ],
      "text/plain": [
       "[1] 100"
      ]
     },
     "metadata": {},
     "output_type": "display_data"
    }
   ],
   "source": [
    "n_A=length(SECTOR_A$estrato)\n",
    "n_A"
   ]
  },
  {
   "cell_type": "code",
   "execution_count": 233,
   "metadata": {},
   "outputs": [
    {
     "data": {
      "text/html": [
       "0.11"
      ],
      "text/latex": [
       "0.11"
      ],
      "text/markdown": [
       "0.11"
      ],
      "text/plain": [
       "[1] 0.11"
      ]
     },
     "metadata": {},
     "output_type": "display_data"
    }
   ],
   "source": [
    "r2=sum(SECTOR_A$tipo==\"Residencial\" & SECTOR_A$estrato==\"Medio\")/n_A\n",
    "r2"
   ]
  },
  {
   "cell_type": "markdown",
   "metadata": {},
   "source": [
    "Para $100(1-\\alpha)\\%=95\\%$. Despejando tenemos, $\\alpha = 0.05$"
   ]
  },
  {
   "cell_type": "markdown",
   "metadata": {},
   "source": [
    "El intervalo de confianza de para una proporción está dado por: $[\\hat{r}-\\epsilon,\\hat{r}+\\epsilon]$"
   ]
  },
  {
   "cell_type": "markdown",
   "metadata": {},
   "source": [
    "donde $\\epsilon = z_{1-a/2}\\sqrt{\\frac{\\hat{r}(1-\\hat{r})}{n}} = 1.96\\sqrt{\\frac{0.11(1-0.11)}{100}} = 0.061$"
   ]
  },
  {
   "cell_type": "code",
   "execution_count": 234,
   "metadata": {},
   "outputs": [
    {
     "data": {
      "text/html": [
       "0.0613252654740242"
      ],
      "text/latex": [
       "0.0613252654740242"
      ],
      "text/markdown": [
       "0.0613252654740242"
      ],
      "text/plain": [
       "[1] 0.06132527"
      ]
     },
     "metadata": {},
     "output_type": "display_data"
    }
   ],
   "source": [
    "error=qnorm(0.975)*sqrt((r2*(1-r2))/n_A)\n",
    "error"
   ]
  },
  {
   "cell_type": "code",
   "execution_count": 235,
   "metadata": {},
   "outputs": [
    {
     "data": {
      "text/html": [
       "0.0486747345259758"
      ],
      "text/latex": [
       "0.0486747345259758"
      ],
      "text/markdown": [
       "0.0486747345259758"
      ],
      "text/plain": [
       "[1] 0.04867473"
      ]
     },
     "metadata": {},
     "output_type": "display_data"
    }
   ],
   "source": [
    "l_inf=r2-error\n",
    "l_inf"
   ]
  },
  {
   "cell_type": "code",
   "execution_count": 236,
   "metadata": {},
   "outputs": [
    {
     "data": {
      "text/html": [
       "0.171325265474024"
      ],
      "text/latex": [
       "0.171325265474024"
      ],
      "text/markdown": [
       "0.171325265474024"
      ],
      "text/plain": [
       "[1] 0.1713253"
      ]
     },
     "metadata": {},
     "output_type": "display_data"
    }
   ],
   "source": [
    "l_sup=r2+error\n",
    "l_sup"
   ]
  },
  {
   "cell_type": "markdown",
   "metadata": {},
   "source": [
    "$[\\hat{r}-\\epsilon,\\hat{r}+\\epsilon] = [0.11 - 0.0613,0.11 + 0.0613]= [0.0486,0.1713]$"
   ]
  },
  {
   "cell_type": "markdown",
   "metadata": {},
   "source": [
    "**3. ¿Es posible inferir que el más del 50% de los inmuebles del sector A tienen más de 75 metros cuadrados?**"
   ]
  },
  {
   "cell_type": "code",
   "execution_count": 140,
   "metadata": {},
   "outputs": [
    {
     "data": {
      "text/html": [
       "0.24"
      ],
      "text/latex": [
       "0.24"
      ],
      "text/markdown": [
       "0.24"
      ],
      "text/plain": [
       "[1] 0.24"
      ]
     },
     "metadata": {},
     "output_type": "display_data"
    }
   ],
   "source": [
    "r3=sum(SECTOR_A$metros_cuadrados>75)/n_A\n",
    "r3"
   ]
  },
  {
   "cell_type": "markdown",
   "metadata": {},
   "source": [
    "Para realizar la inferencia se realiza una prueba de hipótesis sobre la proporción de inmuebles que tienen más de 75 metros cuadrados, con una confiabilidad del 95%. \n",
    "\n",
    "Las hipótesis a someter a prueba son: $$H_0:p_0=50\\%$$ $$H_1:p_0\\neq 50\\%$$\n",
    "El Estadístico de prueba de una proporción para muestras mayores o igual a 30 es \n",
    "$$Z = \\frac{\\hat{p}-p_0}{\\sqrt{\\frac{p_0(1-p_0)}{n}}}$$\n",
    "Donde $\\hat{p}$ es la proporción de la muestra, $\\hat{p}=0.24$\n",
    "\n",
    "Para la prueba a dos colas se rechaza la hipótesis nula $H_0$ si $$Z< -Z_{\\alpha/2} \\ o\\ bien\\ Z > Z_{\\alpha/2}$$\n",
    "\n",
    "lo que es equivalente a $$\\mid Z \\mid> \\mid Z_{\\alpha/2}\\mid$$"
   ]
  },
  {
   "cell_type": "markdown",
   "metadata": {},
   "source": [
    "$$Z = \\frac{0.24-0.5}{\\sqrt{\\frac{0.5(1-0.5)}{100}}} = -5.2$$"
   ]
  },
  {
   "cell_type": "code",
   "execution_count": 98,
   "metadata": {},
   "outputs": [
    {
     "data": {
      "text/html": [
       "-5.2"
      ],
      "text/latex": [
       "-5.2"
      ],
      "text/markdown": [
       "-5.2"
      ],
      "text/plain": [
       "[1] -5.2"
      ]
     },
     "metadata": {},
     "output_type": "display_data"
    }
   ],
   "source": [
    "Z = (0.24-0.5)/sqrt(0.5*(1-0.5)/100)\n",
    "Z"
   ]
  },
  {
   "cell_type": "markdown",
   "metadata": {},
   "source": [
    "Tenemos que para una confiabilidad del 95%, el nivel de significancia $\\alpha$ es 0.05. Por lo que el valor crítico es:\n",
    "$$Z_{\\alpha/2}=1.96$$"
   ]
  },
  {
   "cell_type": "code",
   "execution_count": 99,
   "metadata": {},
   "outputs": [
    {
     "data": {
      "text/html": [
       "1.95996398454005"
      ],
      "text/latex": [
       "1.95996398454005"
      ],
      "text/markdown": [
       "1.95996398454005"
      ],
      "text/plain": [
       "[1] 1.959964"
      ]
     },
     "metadata": {},
     "output_type": "display_data"
    }
   ],
   "source": [
    "qnorm(1-0.05/2)"
   ]
  },
  {
   "cell_type": "markdown",
   "metadata": {},
   "source": [
    "y como  la desigualdad $\\mid-5.2 \\mid>\\mid-1.96 \\mid$ se cumple, se rechaza la hipótesis nula. Por lo tanto, no hay suficiente evidencia estadística para afirmar que el 50% de los inmuebles del sector A tienen más de 75 metros cuadrados"
   ]
  },
  {
   "cell_type": "code",
   "execution_count": 101,
   "metadata": {},
   "outputs": [
    {
     "data": {
      "text/plain": [
       "\n",
       "\t1-sample proportions test with continuity correction\n",
       "\n",
       "data:  24 out of 71, null probability 0.5\n",
       "X-squared = 6.8169, df = 1, p-value = 0.00903\n",
       "alternative hypothesis: true p is not equal to 0.5\n",
       "95 percent confidence interval:\n",
       " 0.2326983 0.4610189\n",
       "sample estimates:\n",
       "        p \n",
       "0.3380282 \n"
      ]
     },
     "metadata": {},
     "output_type": "display_data"
    }
   ],
   "source": [
    "prop.test(24, 71, conf.level = 0.95)"
   ]
  },
  {
   "cell_type": "markdown",
   "metadata": {},
   "source": [
    "**4. Usando una prueba de hipótesis con el 99% de confianza e indicar si hay diferencias significativas entre los metros cuadrados de los inmuebles de sector A y del sector B. (suponer normalidad) (Sugerencia: No olvide estudiar la varianza de los metros cuadrados de cada sector para decidir que prueba usar )**"
   ]
  },
  {
   "cell_type": "code",
   "execution_count": 238,
   "metadata": {},
   "outputs": [],
   "source": [
    "s_A=var(SECTOR_A$metros_cuadrados)\n",
    "s_B=var(SECTOR_B$metros_cuadrados)"
   ]
  },
  {
   "cell_type": "markdown",
   "metadata": {},
   "source": [
    "Para conocer qué prueba de hipótesis se debe usar, se realiza primero una prueba de hipótesis respecto a la igualdad de las dos varianzas. $$H_0: \\sigma_A^2 = \\sigma_B^2$$ $$H_1: \\sigma_A^2 \\neq \\sigma_B^2$$\n",
    "\n",
    "El estadístico de prueba es $$F=\\frac{s_A^2}{s_B^2} = \\frac{38.74^2}{56.16^2}=0.475$$\n",
    "\n",
    "La hipótesis nula se rechaza cuando $$F>F_{1-\\alpha/2,glA,glB}$$\n",
    "\n",
    "Tenemos que $\\alpha=0.05, glA=(n_A-1)=99,glB=(n_B-1)=70$"
   ]
  },
  {
   "cell_type": "code",
   "execution_count": 55,
   "metadata": {},
   "outputs": [
    {
     "data": {
      "text/html": [
       "1.53371802366158"
      ],
      "text/latex": [
       "1.53371802366158"
      ],
      "text/markdown": [
       "1.53371802366158"
      ],
      "text/plain": [
       "[1] 1.533718"
      ]
     },
     "metadata": {},
     "output_type": "display_data"
    }
   ],
   "source": [
    "qf(0.975,df1=70,df2=99)"
   ]
  },
  {
   "cell_type": "markdown",
   "metadata": {},
   "source": [
    "Entonces, el valor crítico es: \n",
    "$$F_{0.975,99,70} = 1.533 $$\n",
    "\n",
    "Debido a que el estadístico de prueba no está en la región de rechazo, hay evidencia estadística para aceptar que las varianzas son iguales.\n",
    "\n",
    "Con este resultado, se propone la siguiente prueba de hipótesis respecto a la diferencia de medias de las dos muestras con varianzas iguales: \n",
    "$$H_0: (\\mu_A-\\mu_B)=D_0$$\n",
    "$$H_1: (\\mu_A-\\mu_B)\\neq D_0$$\n",
    "\n",
    "$$con\\ D_0=0 $$\n",
    "\n",
    "El Estadístico de prueba es:\n",
    "$$t= \\frac{(\\overline{x_A}-\\overline{x_B})-D_0}{s_p \\sqrt{\\frac{1}{n_A}+\\frac{1}{n_B}}}$$\n",
    "\n",
    "donde $s_p$ es el promedio ponderado de las varianzas muestrales: $$s_p= \\frac{(n_A-1)s_A^2+(n_B-1)s_B^2}{n_A+n_B-2}$$\n",
    "\n",
    "La prueba de hipótesis se rechaza cuando $t>t_{\\alpha}$. El valor crítico de $t_{\\alpha}$ está basado en $n_A+n_B-2=100+71-2=169$ grados de libertad\n",
    "\n",
    "Para $100(1-\\alpha)\\%=99\\%$. el nivel de significancia es, $\\alpha = 0.01$. Entonces, el valor crítico es:\n",
    "\n",
    "$$t_{1-\\alpha,169}=2.348$$"
   ]
  },
  {
   "cell_type": "code",
   "execution_count": 239,
   "metadata": {},
   "outputs": [
    {
     "data": {
      "text/html": [
       "2.3486150651675"
      ],
      "text/latex": [
       "2.3486150651675"
      ],
      "text/markdown": [
       "2.3486150651675"
      ],
      "text/plain": [
       "[1] 2.348615"
      ]
     },
     "metadata": {},
     "output_type": "display_data"
    }
   ],
   "source": [
    "t_a = qt(0.99,169)\n",
    "t_a"
   ]
  },
  {
   "cell_type": "markdown",
   "metadata": {},
   "source": [
    "Con las varianzas muestrales $s_A=38.74$ y $s_B=56.16$, Calculamos $s_p:$\n",
    "\n",
    "$$s_p= \\sqrt{\\frac{(100-1)38.74^2+(71-1)56.16^2}{100+71-2}}=46.75$$"
   ]
  },
  {
   "cell_type": "code",
   "execution_count": 241,
   "metadata": {},
   "outputs": [
    {
     "data": {
      "text/html": [
       "46.7521118170225"
      ],
      "text/latex": [
       "46.7521118170225"
      ],
      "text/markdown": [
       "46.7521118170225"
      ],
      "text/plain": [
       "[1] 46.75211"
      ]
     },
     "metadata": {},
     "output_type": "display_data"
    }
   ],
   "source": [
    "s_p=sqrt((99*s_A^2+70*s_B^2)/(100+71-2))\n",
    "s_p"
   ]
  },
  {
   "cell_type": "markdown",
   "metadata": {},
   "source": [
    "Con los promedios muestrales $\\overline{x_A}=71.74$ y $\\overline{x_B}=71.19$, podemos calcular $t:$\n",
    "\n",
    "$$t= \\frac{(71.74-71.19)-0}{46.75 \\sqrt{\\frac{1}{100}+\\frac{1}{71}}}= 0.076$$"
   ]
  },
  {
   "cell_type": "code",
   "execution_count": 242,
   "metadata": {},
   "outputs": [
    {
     "data": {
      "text/html": [
       "0.0762237676794303"
      ],
      "text/latex": [
       "0.0762237676794303"
      ],
      "text/markdown": [
       "0.0762237676794303"
      ],
      "text/plain": [
       "[1] 0.07622377"
      ]
     },
     "metadata": {},
     "output_type": "display_data"
    }
   ],
   "source": [
    "x_A=mean(SECTOR_A$metros_cuadrados)\n",
    "x_B=mean(SECTOR_B$metros_cuadrados)\n",
    "t=(x_A-x_B)/(s_p*sqrt(1/100+1/71))\n",
    "t"
   ]
  },
  {
   "cell_type": "markdown",
   "metadata": {},
   "source": [
    "Al comparar el valor crítico $t_{1-\\alpha,169}=2.348$ con el estadístico de prueba $t=0.076$, no se puede rechazar la hipótesis nula. Por lo tanto, hay evidencia estadística para afirmar con un 99% de confianza que no hay diferencias significativas entre los metros cuadrados de los inmuebles del sector A y sector B."
   ]
  },
  {
   "cell_type": "markdown",
   "metadata": {},
   "source": [
    "**5. Pensando en un modelo de Poisson, ¿cuántos habitantes por inmueble se estima para el sector B? (No olvide calcular el error estandar). Estime la probabilidad de que las personas tengan entre 3 y 5 habitantes por inmuebles en el sector B. (Aquí noo es necesario calcular el  error estandar).**"
   ]
  },
  {
   "cell_type": "markdown",
   "metadata": {},
   "source": [
    "Utilizando el modelo de Poisson la estimación de habitantes se realiza mediante la estimación de $\\lambda$. A partir de la estimación de máxima verosimilitud se tiene que $$\\lambda=\\sum_{i=0}^{n} \\frac{x_i}{n}=\\sum_{i=0}^{71} \\frac{x_i}{71}=4.83$$"
   ]
  },
  {
   "cell_type": "code",
   "execution_count": 25,
   "metadata": {},
   "outputs": [
    {
     "data": {
      "text/html": [
       "4.83098591549296"
      ],
      "text/latex": [
       "4.83098591549296"
      ],
      "text/markdown": [
       "4.83098591549296"
      ],
      "text/plain": [
       "[1] 4.830986"
      ]
     },
     "metadata": {},
     "output_type": "display_data"
    },
    {
     "data": {
      "text/html": [
       "0.0680420551477881"
      ],
      "text/latex": [
       "0.0680420551477881"
      ],
      "text/markdown": [
       "0.0680420551477881"
      ],
      "text/plain": [
       "[1] 0.06804206"
      ]
     },
     "metadata": {},
     "output_type": "display_data"
    }
   ],
   "source": [
    "lambda = mean(SECTOR_B$numero_habitantes)\n",
    "st_lambda=lambda/n_B\n",
    "lambda\n",
    "st_lambda"
   ]
  },
  {
   "cell_type": "markdown",
   "metadata": {},
   "source": [
    "El error estándar se calcula como $$st(\\lambda)=\\frac{\\lambda}{\\sqrt{n}} = \\frac{4.83}{71} = 0.068$$"
   ]
  },
  {
   "cell_type": "markdown",
   "metadata": {},
   "source": [
    "La función de probabilidad para el modelo Poisson es la siguiente:\n",
    "$$p(x) = \\left\\{\n",
    "   \\begin{array}{ll}\n",
    " \\frac{e^{-\\lambda} \\lambda^x}{x!}      & \\mathrm{si\\ } x =0,1,2,... 3 \\\\\n",
    "  0     & en\\ otro\\ caso\n",
    "   \\end{array}\n",
    " \\right.$$\n",
    " \n",
    " Ahora, para estimar la probabilidad de que hayan entre 3 y 5 habitantes por inmueble:\n",
    " \n",
    " $$P[3\\le x \\le 5] = P[x=3]+P[x=4]+P[x=5]= 0.150+0.181+0.175 = 0.5059 = 50.59\\%$$\n",
    " \n",
    " "
   ]
  },
  {
   "cell_type": "code",
   "execution_count": 36,
   "metadata": {},
   "outputs": [
    {
     "data": {
      "text/html": [
       "0.50596043380027"
      ],
      "text/latex": [
       "0.50596043380027"
      ],
      "text/markdown": [
       "0.50596043380027"
      ],
      "text/plain": [
       "[1] 0.5059604"
      ]
     },
     "metadata": {},
     "output_type": "display_data"
    }
   ],
   "source": [
    "prob=dpois(3,lambda)+dpois(4,lambda)+dpois(5,lambda)\n",
    "prob"
   ]
  },
  {
   "cell_type": "markdown",
   "metadata": {},
   "source": [
    "La probabilidad de que hayan entre 3 y 5 habitantes por inmueble en el sector es del 50.59%"
   ]
  },
  {
   "cell_type": "markdown",
   "metadata": {},
   "source": [
    "**6. Encontrar evidencia estadística para decidir si la proporción de inmuebles residenciales del Sector B, es 3 veces la proporción de inmuebles no residenciales.**"
   ]
  },
  {
   "cell_type": "markdown",
   "metadata": {},
   "source": [
    "Se necesita establecer si la proporción de inmuebles residenciales del sector B es tres veces la proporción de inmuebles no residenciales: $r_{ir} = 3\\cdot r_{inr}$\n",
    "\n",
    "Teniendo que $r_{inr} = 1 - r_{ir}$, se reemplaza y despeja la proporción de inmuebles residenciales que será sometida a prueba:\n",
    "$$r_{ir} = 3\\cdot r_{inr}$$\n",
    "$$r_{ir} = 3\\cdot (1-r_{ir})$$\n",
    "$$r_{ir} =  \\frac{3}{4}=0.75$$\n",
    "\n",
    "Calculamos la proporción muestral $\\hat{p}$ mediante $\\hat{p}=\\frac{x}{n}$ donde $x$ es la cantidad de muebles residenciales del sector B\n",
    "$$\\hat{p}=\\frac{57}{71}=0.8028 = 80.28\\%$$\n",
    "\n"
   ]
  },
  {
   "cell_type": "code",
   "execution_count": 53,
   "metadata": {},
   "outputs": [
    {
     "data": {
      "text/html": [
       "0.802816901408451"
      ],
      "text/latex": [
       "0.802816901408451"
      ],
      "text/markdown": [
       "0.802816901408451"
      ],
      "text/plain": [
       "[1] 0.8028169"
      ]
     },
     "metadata": {},
     "output_type": "display_data"
    }
   ],
   "source": [
    "p_r=sum(SECTOR_B$tipo==\"Residencial\")/n_B\n",
    "p_r"
   ]
  },
  {
   "cell_type": "markdown",
   "metadata": {},
   "source": [
    "Las hipótesis a someter a prueba son: $$H_0:p_0=75\\%$$ $$H_1:p_0\\neq 75\\%$$\n",
    "\n",
    "El Estadístico de prueba de una proporción para muestras mayores o igual a 30 es:\n",
    "\n",
    "$$Z = \\frac{\\hat{p}-p_0}{\\sqrt{\\frac{p_0(1-p_0)}{n}}} = $$\n",
    "\n",
    "Para la prueba a dos colas, la hipótesis nula $H_0$ es rechazada si $\\mid Z \\mid >\\mid Z_{\\alpha/2}\\mid$\n",
    "\n",
    "Para lograr confiabilidad del 95%, el nivel de significancia $\\alpha$ es 0.05. Por lo que\n",
    "$$Z_{\\alpha/2}=1.96$$"
   ]
  },
  {
   "cell_type": "markdown",
   "metadata": {},
   "source": [
    "\n",
    "\n",
    "y como  $\\mid -5.2 \\mid >= 1.96$, se rechaza la hipótesis nula. Por lo tanto, menos del 50% de los inmuebles del sector A tienen más de 75 metros cuadrados"
   ]
  },
  {
   "cell_type": "code",
   "execution_count": 40,
   "metadata": {},
   "outputs": [
    {
     "data": {
      "text/html": [
       "0.75"
      ],
      "text/latex": [
       "0.75"
      ],
      "text/markdown": [
       "0.75"
      ],
      "text/plain": [
       "[1] 0.75"
      ]
     },
     "metadata": {},
     "output_type": "display_data"
    }
   ],
   "source": [
    "3/4"
   ]
  },
  {
   "cell_type": "code",
   "execution_count": 69,
   "metadata": {},
   "outputs": [
    {
     "data": {
      "text/html": [
       "1.95996398454005"
      ],
      "text/latex": [
       "1.95996398454005"
      ],
      "text/markdown": [
       "1.95996398454005"
      ],
      "text/plain": [
       "[1] 1.959964"
      ]
     },
     "metadata": {},
     "output_type": "display_data"
    }
   ],
   "source": [
    "qnorm(1-0.05/2)"
   ]
  },
  {
   "cell_type": "code",
   "execution_count": 93,
   "metadata": {},
   "outputs": [
    {
     "data": {
      "text/html": [
       "<strong>df:</strong> 1"
      ],
      "text/latex": [
       "\\textbf{df:} 1"
      ],
      "text/markdown": [
       "**df:** 1"
      ],
      "text/plain": [
       "df \n",
       " 1 "
      ]
     },
     "metadata": {},
     "output_type": "display_data"
    }
   ],
   "source": [
    "aa$"
   ]
  },
  {
   "cell_type": "code",
   "execution_count": null,
   "metadata": {},
   "outputs": [],
   "source": []
  },
  {
   "cell_type": "code",
   "execution_count": 100,
   "metadata": {},
   "outputs": [
    {
     "data": {
      "text/plain": [
       "\n",
       "\t1-sample proportions test with continuity correction\n",
       "\n",
       "data:  24 out of 71, null probability 0.5\n",
       "X-squared = 6.8169, df = 1, p-value = 0.00903\n",
       "alternative hypothesis: true p is not equal to 0.5\n",
       "95 percent confidence interval:\n",
       " 0.2326983 0.4610189\n",
       "sample estimates:\n",
       "        p \n",
       "0.3380282 \n"
      ]
     },
     "metadata": {},
     "output_type": "display_data"
    }
   ],
   "source": []
  }
 ],
 "metadata": {
  "kernelspec": {
   "display_name": "R",
   "language": "R",
   "name": "ir"
  },
  "language_info": {
   "codemirror_mode": "r",
   "file_extension": ".r",
   "mimetype": "text/x-r-source",
   "name": "R",
   "pygments_lexer": "r",
   "version": "3.5.1"
  }
 },
 "nbformat": 4,
 "nbformat_minor": 2
}
